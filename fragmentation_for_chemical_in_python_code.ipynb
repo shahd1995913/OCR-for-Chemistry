{
  "nbformat": 4,
  "nbformat_minor": 0,
  "metadata": {
    "colab": {
      "provenance": [],
      "authorship_tag": "ABX9TyMnAiDGwZNi7RaHkg4DWIO1",
      "include_colab_link": true
    },
    "kernelspec": {
      "name": "python3",
      "display_name": "Python 3"
    },
    "language_info": {
      "name": "python"
    }
  },
  "cells": [
    {
      "cell_type": "markdown",
      "metadata": {
        "id": "view-in-github",
        "colab_type": "text"
      },
      "source": [
        "<a href=\"https://colab.research.google.com/github/shahd1995913/OCR-for-Chemistry/blob/main/fragmentation_for_chemical_in_python_code.ipynb\" target=\"_parent\"><img src=\"https://colab.research.google.com/assets/colab-badge.svg\" alt=\"Open In Colab\"/></a>"
      ]
    },
    {
      "cell_type": "code",
      "execution_count": 2,
      "metadata": {
        "colab": {
          "base_uri": "https://localhost:8080/"
        },
        "id": "VD1a2aGiqJ72",
        "outputId": "65d9c1ea-afe1-422d-f438-c1d0cabdacfb"
      },
      "outputs": [
        {
          "output_type": "stream",
          "name": "stdout",
          "text": [
            "Looking in indexes: https://pypi.org/simple, https://us-python.pkg.dev/colab-wheels/public/simple/\n",
            "Collecting rdkit\n",
            "  Downloading rdkit-2022.9.5-cp39-cp39-manylinux_2_17_x86_64.manylinux2014_x86_64.whl (29.4 MB)\n",
            "\u001b[2K     \u001b[90m━━━━━━━━━━━━━━━━━━━━━━━━━━━━━━━━━━━━━━━━\u001b[0m \u001b[32m29.4/29.4 MB\u001b[0m \u001b[31m28.6 MB/s\u001b[0m eta \u001b[36m0:00:00\u001b[0m\n",
            "\u001b[?25hRequirement already satisfied: numpy in /usr/local/lib/python3.9/dist-packages (from rdkit) (1.22.4)\n",
            "Requirement already satisfied: Pillow in /usr/local/lib/python3.9/dist-packages (from rdkit) (8.4.0)\n",
            "Installing collected packages: rdkit\n",
            "Successfully installed rdkit-2022.9.5\n",
            "CC(=O)Oc1ccccc1C(=O)O\n"
          ]
        }
      ],
      "source": [
        "! pip install rdkit\n",
        "from rdkit import Chem"
      ]
    },
    {
      "cell_type": "code",
      "source": [
        "# Define a molecule as a SMILES string\n",
        "mol = Chem.MolFromSmiles('CC(=O)OC1=CC=CC=C1C(=O)O')\n",
        "\n",
        "# Generate all possible fragments of the molecule\n",
        "fragments = Chem.GetMolFrags(mol, asMols=True)\n",
        "\n",
        "# Print the SMILES string for each fragment\n",
        "for fragment in fragments:\n",
        "    print(Chem.MolToSmiles(fragment))"
      ],
      "metadata": {
        "colab": {
          "base_uri": "https://localhost:8080/"
        },
        "id": "-tV9nrMcqZ11",
        "outputId": "b09cab2e-d6d6-4fd4-e52a-e7d0428ddf43"
      },
      "execution_count": 3,
      "outputs": [
        {
          "output_type": "stream",
          "name": "stdout",
          "text": [
            "CC(=O)Oc1ccccc1C(=O)O\n"
          ]
        }
      ]
    }
  ]
}