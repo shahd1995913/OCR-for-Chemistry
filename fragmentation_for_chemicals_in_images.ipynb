{
  "nbformat": 4,
  "nbformat_minor": 0,
  "metadata": {
    "colab": {
      "provenance": [],
      "authorship_tag": "ABX9TyNvDMl2x/Ha0DxBR741iWd8",
      "include_colab_link": true
    },
    "kernelspec": {
      "name": "python3",
      "display_name": "Python 3"
    },
    "language_info": {
      "name": "python"
    }
  },
  "cells": [
    {
      "cell_type": "markdown",
      "metadata": {
        "id": "view-in-github",
        "colab_type": "text"
      },
      "source": [
        "<a href=\"https://colab.research.google.com/github/shahd1995913/OCR-for-Chemistry/blob/main/fragmentation_for_chemicals_in_images.ipynb\" target=\"_parent\"><img src=\"https://colab.research.google.com/assets/colab-badge.svg\" alt=\"Open In Colab\"/></a>"
      ]
    },
    {
      "cell_type": "markdown",
      "source": [
        "* This code loads a pre-trained object detection model and uses it to \n",
        "detect objects within an input image. \n",
        "* If the detected object is a chemical, its region is extracted and preprocessed, then its chemical structure is identified using **RDKit's MolFromImage function**. \n",
        "* The resulting SMILES string can then be used for further analysis .\n",
        "* customized depending on the specific requirements of the task at hand."
      ],
      "metadata": {
        "id": "OPpByG5jyqnj"
      }
    },
    {
      "cell_type": "code",
      "source": [
        "! pip install rdkit"
      ],
      "metadata": {
        "colab": {
          "base_uri": "https://localhost:8080/"
        },
        "id": "imaPt_CHzUwI",
        "outputId": "aae82824-6546-4221-de4c-8f677e691b59"
      },
      "execution_count": null,
      "outputs": [
        {
          "output_type": "stream",
          "name": "stdout",
          "text": [
            "Looking in indexes: https://pypi.org/simple, https://us-python.pkg.dev/colab-wheels/public/simple/\n",
            "Collecting rdkit\n",
            "  Downloading rdkit-2022.9.5-cp39-cp39-manylinux_2_17_x86_64.manylinux2014_x86_64.whl (29.4 MB)\n",
            "\u001b[2K     \u001b[90m━━━━━━━━━━━━━━━━━━━━━━━━━━━━━━━━━━━━━━━━\u001b[0m \u001b[32m29.4/29.4 MB\u001b[0m \u001b[31m33.3 MB/s\u001b[0m eta \u001b[36m0:00:00\u001b[0m\n",
            "\u001b[?25hRequirement already satisfied: Pillow in /usr/local/lib/python3.9/dist-packages (from rdkit) (8.4.0)\n",
            "Requirement already satisfied: numpy in /usr/local/lib/python3.9/dist-packages (from rdkit) (1.22.4)\n",
            "Installing collected packages: rdkit\n",
            "Successfully installed rdkit-2022.9.5\n"
          ]
        }
      ]
    },
    {
      "cell_type": "code",
      "execution_count": null,
      "metadata": {
        "id": "Xd0INjqwwP9H"
      },
      "outputs": [],
      "source": [
        "import cv2\n",
        "import numpy as np\n",
        "from rdkit import Chem\n",
        "from tensorflow.keras.models import load_model\n",
        "\n",
        "# Load pre-trained object detection model\n",
        "model = load_model('path/to/model.h5')\n",
        "\n",
        "# Load image and preprocess\n",
        "img = cv2.imread('path/to/image.jpg')\n",
        "img = cv2.resize(img, (640, 640))\n",
        "img = cv2.cvtColor(img, cv2.COLOR_BGR2RGB)\n",
        "\n",
        "# Perform object detection\n",
        "detections = model.predict(img)\n",
        "\n",
        "# Extract chemical regions from detections\n",
        "chemical_regions = []\n",
        "for detection in detections:\n",
        "    if detection[0] == 'chemical':\n",
        "        x1, y1, x2, y2 = detection[1:]\n",
        "        chemical_regions.append(img[y1:y2, x1:x2])\n",
        "\n",
        "# Identify chemicals in each region\n",
        "for region in chemical_regions:\n",
        "    # Preprocess region\n",
        "    region = cv2.cvtColor(region, cv2.COLOR_RGB2GRAY)\n",
        "    region = cv2.threshold(region, 0, 255, cv2.THRESH_BINARY)[1]\n",
        "\n",
        "    # Identify chemical structure\n",
        "    mol = Chem.MolFromImage(region)\n",
        "    smiles = Chem.MolToSmiles(mol)\n",
        "\n",
        "    # Do something with the identified chemical\n",
        "    print(smiles)"
      ]
    }
  ]
}