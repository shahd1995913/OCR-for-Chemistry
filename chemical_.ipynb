{
  "nbformat": 4,
  "nbformat_minor": 0,
  "metadata": {
    "colab": {
      "private_outputs": true,
      "provenance": [],
      "authorship_tag": "ABX9TyP+RXZGj0Wq55EAE4RQa3m8",
      "include_colab_link": true
    },
    "kernelspec": {
      "name": "python3",
      "display_name": "Python 3"
    },
    "language_info": {
      "name": "python"
    },
    "accelerator": "TPU",
    "gpuClass": "standard"
  },
  "cells": [
    {
      "cell_type": "markdown",
      "metadata": {
        "id": "view-in-github",
        "colab_type": "text"
      },
      "source": [
        "<a href=\"https://colab.research.google.com/github/shahd1995913/OCR-for-Chemistry/blob/main/chemical_.ipynb\" target=\"_parent\"><img src=\"https://colab.research.google.com/assets/colab-badge.svg\" alt=\"Open In Colab\"/></a>"
      ]
    },
    {
      "cell_type": "code",
      "source": [
        "! pip install pytesseract\n",
        "! pip install PyMuPDF\n",
        "! pip install pillow\n",
        "! pip install opencv-python\n",
        "! pip install colorama\n",
        "! pip install -U PIL\n",
        "!sudo apt install tesseract-ocr\n",
        "!pip install pytesseract"
      ],
      "metadata": {
        "id": "EgGi7epXzcHO"
      },
      "execution_count": null,
      "outputs": []
    },
    {
      "cell_type": "code",
      "source": [
        "import pytesseract\n",
        "import shutil\n",
        "import os\n",
        "import random\n",
        "try:\n",
        " from PIL import Image\n",
        "except ImportError:\n",
        " import Image\n",
        "import PIL"
      ],
      "metadata": {
        "id": "tDfDPnByIbK9"
      },
      "execution_count": null,
      "outputs": []
    },
    {
      "cell_type": "code",
      "source": [
        "pytesseract.pytesseract.tesseract_cmd = r'C:\\Program Files\\Tesseract-OCR\\tesseract'\n",
        "! pip install tesseract"
      ],
      "metadata": {
        "id": "w4xb8R2dIbOg"
      },
      "execution_count": null,
      "outputs": []
    },
    {
      "cell_type": "code",
      "source": [
        "pytesseract.tesseract_cmd = 'C:\\\\Program Files (x86)\\\\Tesseract-OCR\\\\tesseract.exe'\n",
        "image_path_in_colab='/content/1.webp'\n",
        "text = pytesseract.image_to_string(image_path_in_colab)\n",
        "print(text)"
      ],
      "metadata": {
        "id": "Zlv2b93ZIbSE"
      },
      "execution_count": null,
      "outputs": []
    },
    {
      "cell_type": "code",
      "source": [
        "from pathlib import Path\n",
        "import glob\n",
        "\n",
        "folder_dir='/content/images/'\n",
        "images = Path(folder_dir).glob('')\n",
        "\n",
        "for images in glob.iglob(f'{folder_dir}/*'):\n",
        "  text = pytesseract.image_to_string(images)\n",
        "  print(text)\n",
        "  "
      ],
      "metadata": {
        "id": "2lUlEGt8Wtjr"
      },
      "execution_count": null,
      "outputs": []
    }
  ]
}