{
  "nbformat": 4,
  "nbformat_minor": 0,
  "metadata": {
    "colab": {
      "private_outputs": true,
      "provenance": [],
      "authorship_tag": "ABX9TyP5okL73UxgpzdgruufEv15",
      "include_colab_link": true
    },
    "kernelspec": {
      "name": "python3",
      "display_name": "Python 3"
    },
    "language_info": {
      "name": "python"
    }
  },
  "cells": [
    {
      "cell_type": "markdown",
      "metadata": {
        "id": "view-in-github",
        "colab_type": "text"
      },
      "source": [
        "<a href=\"https://colab.research.google.com/github/shahd1995913/OCR-for-Chemistry/blob/main/Part_one.ipynb\" target=\"_parent\"><img src=\"https://colab.research.google.com/assets/colab-badge.svg\" alt=\"Open In Colab\"/></a>"
      ]
    },
    {
      "cell_type": "code",
      "source": [
        "import matplotlib.pyplot as plt\n",
        "from tensorflow.keras.preprocessing.image import ImageDataGenerator, img_to_array, load_img\n",
        "\n",
        "# Load and preprocess the input image\n",
        "image_path = '/content/output_folder_path_input/image001.png'  # Replace with the path to your image\n",
        "image = load_img(image_path)\n",
        "image_array = img_to_array(image)\n",
        "image_array = image_array.reshape((1,) + image_array.shape)\n",
        "\n",
        "# Create an instance of ImageDataGenerator for reshaping only\n",
        "data_generator = ImageDataGenerator(rescale=1.0)\n",
        "\n",
        "# Generate the reshaped image\n",
        "reshaped_images = data_generator.flow(image_array, batch_size=1)\n",
        "\n",
        "# Retrieve the reshaped image\n",
        "reshaped_image = reshaped_images.next()[0].astype('uint8')\n",
        "\n",
        "# Plot the original and reshaped images\n",
        "fig, axs = plt.subplots(1, 2, figsize=(10, 5))\n",
        "axs[0].imshow(image)\n",
        "axs[0].set_title('Original Image')\n",
        "axs[0].axis('off')\n",
        "\n",
        "axs[1].imshow(reshaped_image)\n",
        "axs[1].set_title('Reshaped Image')\n",
        "axs[1].axis('off')\n",
        "\n",
        "plt.tight_layout()\n",
        "plt.show()\n"
      ],
      "metadata": {
        "id": "gVpLs79nnVcA"
      },
      "execution_count": null,
      "outputs": []
    },
    {
      "cell_type": "code",
      "source": [
        "import shutil\n",
        "import os\n",
        "from google.colab import files\n",
        "\n",
        "# Set the path to the folder you want to download\n",
        "folder_path = '/content/output_folder_path_label'\n",
        "\n",
        "# Create a temporary zip file\n",
        "zip_path = '/content/temp.zip'\n",
        "shutil.make_archive('/content/temp', 'zip', folder_path)\n",
        "\n",
        "# Download the zip file\n",
        "files.download(zip_path)\n"
      ],
      "metadata": {
        "id": "tMPKwnsKvrR3"
      },
      "execution_count": null,
      "outputs": []
    },
    {
      "cell_type": "markdown",
      "source": [
        "# **Part 2**\n"
      ],
      "metadata": {
        "id": "_dD6O_pspYev"
      }
    },
    {
      "cell_type": "code",
      "source": [
        "import tensorflow as tf\n",
        "from tensorflow.keras.preprocessing.image import load_img, img_to_array\n",
        "from tensorflow.keras.layers import Conv2D, MaxPooling2D, Flatten, Dense\n",
        "from tensorflow.keras.models import Sequential\n",
        "\n",
        "# Set the path to your dataset folder\n",
        "data_dir = '/content/output_folder_path_input'\n",
        "\n",
        "# Set the input image size\n",
        "image_size = (224, 224)\n",
        "\n",
        "# Set the number of classes\n",
        "num_classes = 8\n",
        "\n",
        "# Load and preprocess the images\n",
        "images = []\n",
        "labels = []\n",
        "\n",
        "for i in range(1, 9):\n",
        "    image_path = f\"{data_dir}/image0{i:02d}.png\"  # Adjust the image file naming pattern if needed\n",
        "    image = load_img(image_path, target_size=image_size)\n",
        "    image_array = img_to_array(image)\n",
        "    images.append(image_array)\n",
        "    labels.append(i - 1)  # Assuming the labels are 0-based indices\n",
        "\n",
        "# Convert the images and labels to NumPy arrays\n",
        "images = tf.stack(images)\n",
        "labels = tf.keras.utils.to_categorical(labels, num_classes)\n",
        "\n",
        "# Create the model\n",
        "model = Sequential()\n",
        "model.add(Conv2D(32, kernel_size=(3, 3), activation='relu', input_shape=(image_size[0], image_size[1], 3)))\n",
        "model.add(MaxPooling2D(pool_size=(2, 2)))\n",
        "model.add(Conv2D(64, kernel_size=(3, 3), activation='relu'))\n",
        "model.add(MaxPooling2D(pool_size=(2, 2)))\n",
        "model.add(Conv2D(128, kernel_size=(3, 3), activation='relu'))\n",
        "model.add(MaxPooling2D(pool_size=(2, 2)))\n",
        "model.add(Flatten())\n",
        "model.add(Dense(128, activation='relu'))\n",
        "model.add(Dense(num_classes, activation='softmax'))\n",
        "\n",
        "# Compile and train the model\n",
        "model.compile(optimizer='adam', loss='categorical_crossentropy', metrics=['accuracy'])\n",
        "model.fit(images, labels, epochs=20)\n",
        "\n",
        "# Save the trained model\n",
        "model.save('trained_model.h5')\n"
      ],
      "metadata": {
        "id": "d6ncl2iNnVeZ"
      },
      "execution_count": null,
      "outputs": []
    },
    {
      "cell_type": "code",
      "source": [
        "test_image_path = '/content/output_folder_path_input/image008.png'  # Replace with the path to your test image\n",
        "test_image = load_img(test_image_path, target_size=image_size)\n",
        "test_image_array = img_to_array(test_image)\n",
        "test_image_array = tf.expand_dims(test_image_array, axis=0)  # Add an extra dimension for batch size\n",
        "predictions = model.predict(test_image_array)\n",
        "predicted_class = tf.argmax(predictions, axis=1).numpy()[0]\n",
        "class_probability = predictions[0][predicted_class]\n",
        "\n",
        "print(f\"Predicted Class: {predicted_class}\")\n",
        "print(f\"Probability: {class_probability}\")\n",
        "\n",
        "\n",
        "import os\n",
        "from PIL import Image\n",
        "\n",
        "# Assuming the predicted class is stored in the variable 'predicted_class'\n",
        "# predicted_class = predicted_class # Example predicted class\n",
        "\n",
        "# Set the path to the folder containing the image files\n",
        "folder_path = '/content/output_folder_path_label'\n",
        "\n",
        "# Construct the file name based on the predicted class\n",
        "image_file_name = f\"image{predicted_class:03d}_label.png\"\n",
        "\n",
        "# Construct the path to the image file\n",
        "image_path = os.path.join(folder_path, image_file_name)\n",
        "\n",
        "# Check if the image file exists\n",
        "if os.path.exists(image_path):\n",
        "     image = Image.open(image_path)\n",
        "     resized_image = image.resize((400, 400))  # Resize to desired size\n",
        "\n",
        "    # Display the resized image\n",
        "     resized_image.show()\n",
        "else:\n",
        "    print(f\"Image file {image_file_name} not found.\")"
      ],
      "metadata": {
        "id": "KeI3nNLInVh7"
      },
      "execution_count": null,
      "outputs": []
    },
    {
      "cell_type": "code",
      "source": [
        "import os\n",
        "from PIL import Image\n",
        "\n",
        "# Assuming the predicted class is stored in the variable 'predicted_class'\n",
        "# predicted_class = predicted_class # Example predicted class\n",
        "\n",
        "# Set the path to the folder containing the image files\n",
        "folder_path = '/content/output_folder_path_label'\n",
        "\n",
        "# Construct the file name based on the predicted class\n",
        "image_file_name = f\"image{predicted_class:03d}_label.png\"\n",
        "\n",
        "# Construct the path to the image file\n",
        "image_path = os.path.join(folder_path, image_file_name)\n",
        "\n",
        "# Check if the image file exists\n",
        "if os.path.exists(image_path):\n",
        "    image = Image.open(image_path)\n",
        "    image.show()\n",
        "else:\n",
        "    print(f\"Image file {image_file_name} not found.\")\n"
      ],
      "metadata": {
        "id": "YqLBQVGXry0b"
      },
      "execution_count": null,
      "outputs": []
    }
  ]
}