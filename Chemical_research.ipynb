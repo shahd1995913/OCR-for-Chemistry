{
  "nbformat": 4,
  "nbformat_minor": 0,
  "metadata": {
    "colab": {
      "provenance": [],
      "authorship_tag": "ABX9TyO8eMJebsK1IJva8qwLcFLd",
      "include_colab_link": true
    },
    "kernelspec": {
      "name": "python3",
      "display_name": "Python 3"
    },
    "language_info": {
      "name": "python"
    }
  },
  "cells": [
    {
      "cell_type": "markdown",
      "metadata": {
        "id": "view-in-github",
        "colab_type": "text"
      },
      "source": [
        "<a href=\"https://colab.research.google.com/github/shahd1995913/OCR-for-Chemistry/blob/main/Chemical_research.ipynb\" target=\"_parent\"><img src=\"https://colab.research.google.com/assets/colab-badge.svg\" alt=\"Open In Colab\"/></a>"
      ]
    },
    {
      "cell_type": "code",
      "execution_count": 1,
      "metadata": {
        "colab": {
          "base_uri": "https://localhost:8080/"
        },
        "id": "dDanFeRigsX6",
        "outputId": "6a2cead2-7362-46d4-ccec-7271663de76a"
      },
      "outputs": [
        {
          "output_type": "stream",
          "name": "stdout",
          "text": [
            "Mounted at /content/drive\n"
          ]
        }
      ],
      "source": [
        "from google.colab import drive\n",
        "drive.mount('/content/drive')"
      ]
    },
    {
      "cell_type": "markdown",
      "source": [
        "# Add background to all images"
      ],
      "metadata": {
        "id": "ehWPxDyVu86C"
      }
    },
    {
      "cell_type": "code",
      "source": [
        "from PIL import Image, ImageOps\n",
        "import os\n",
        "\n",
        "# Define the input and output folders\n",
        "input_folder = \"/content/drive/MyDrive/Chemical research\"  # Replace with the actual input folder path\n",
        "output_folder = \"/content/output_folder/\"  # Replace with the actual output folder path\n",
        "\n",
        "# Create the output folder if it doesn't exist\n",
        "os.makedirs(output_folder, exist_ok=True)\n",
        "\n",
        "# Loop through all image files in the input folder\n",
        "for filename in os.listdir(input_folder):\n",
        "    if filename.endswith((\".jpg\", \".jpeg\", \".png\")):\n",
        "        # Load the image\n",
        "        image_path = os.path.join(input_folder, filename)\n",
        "        image = Image.open(image_path)\n",
        "\n",
        "        # Create a new image with a white background\n",
        "        new_image = Image.new('RGB', image.size, 'white')\n",
        "        new_image.paste(image, (0, 0))\n",
        "\n",
        "        # Save the modified image with a white background to the output folder\n",
        "        output_path = os.path.join(output_folder, filename)\n",
        "        new_image.save(output_path)\n",
        "\n",
        "        print(\"Image with a white background saved to:\", output_path)\n"
      ],
      "metadata": {
        "colab": {
          "base_uri": "https://localhost:8080/"
        },
        "id": "zQu25K01jDM5",
        "outputId": "f4b72fd8-66a4-4b33-eb7d-bd615973f81d"
      },
      "execution_count": 3,
      "outputs": [
        {
          "output_type": "stream",
          "name": "stdout",
          "text": [
            "Image with a white background saved to: /content/output_folder/CC(C)=O.png\n",
            "Image with a white background saved to: /content/output_folder/CC(CC)=O.png\n",
            "Image with a white background saved to: /content/output_folder/CC(C(C)C)=O.png\n",
            "Image with a white background saved to: /content/output_folder/CC(C(C)(C)C)=O.png\n",
            "Image with a white background saved to: /content/output_folder/O=C(CC)CC.png\n",
            "Image with a white background saved to: /content/output_folder/O=C(CC)C(C)C.png\n",
            "Image with a white background saved to: /content/output_folder/O=C(CC)C(C)(C)C.png\n",
            "Image with a white background saved to: /content/output_folder/O=C(C(C)C)C(C)C.png\n",
            "Image with a white background saved to: /content/output_folder/O=C(C(C)(C)C)C(C)C.png\n",
            "Image with a white background saved to: /content/output_folder/O=C1[C@@H]2C(CCC2)CCC1.png\n",
            "Image with a white background saved to: /content/output_folder/O=C([C@H](C)CC) C(C)=C C.png\n",
            "Image with a white background saved to: /content/output_folder/O=C([C@@H](C)CC) C(C)=C C.png\n",
            "Image with a white background saved to: /content/output_folder/O=C1CCCCCCCC(C)C1.png\n",
            "Image with a white background saved to: /content/output_folder/O=C1C2=C(C=CC=N2)CCC1.png\n",
            "Image with a white background saved to: /content/output_folder/O=C(CCC1)C2C1CC(CCCC3)=C3C2.png\n",
            "Image with a white background saved to: /content/output_folder/O=C(C1CCCCC1) C(C)=C(C) C.png\n",
            "Image with a white background saved to: /content/output_folder/O=C(C1CCCCC1) C(C)=C C.png\n",
            "Image with a white background saved to: /content/output_folder/O=C(C1=CC=CC=C1)C(C)=C.png\n",
            "Image with a white background saved to: /content/output_folder/O=C(C1CCCC1)C(C)=C.png\n",
            "Image with a white background saved to: /content/output_folder/O=C(C1=CC=CC=C1)C=C.png\n",
            "Image with a white background saved to: /content/output_folder/O=C(C(C)=C)C=C.png\n",
            "Image with a white background saved to: /content/output_folder/O=C(C1CCCC1)C=C.png\n",
            "Image with a white background saved to: /content/output_folder/CC(C=C)=O.png\n",
            "Image with a white background saved to: /content/output_folder/O=C(CC)C=C.png\n",
            "Image with a white background saved to: /content/output_folder/O=C(C(C)C)C=C.png\n",
            "Image with a white background saved to: /content/output_folder/O=C(C(C)(C)C)C=C.png\n",
            "Image with a white background saved to: /content/output_folder/O=C(CC)C(C)=C.png\n",
            "Image with a white background saved to: /content/output_folder/O=C(C(C)C)C(C)=C.png\n",
            "Image with a white background saved to: /content/output_folder/O=C(C(C)(C)C)C(C)=C.png\n",
            "Image with a white background saved to: /content/output_folder/CC( C(C)=C C)=O.png\n",
            "Image with a white background saved to: /content/output_folder/O=C(CC) C(C)=C C.png\n",
            "Image with a white background saved to: /content/output_folder/O=C(C(C)C) C(C)=C C.png\n",
            "Image with a white background saved to: /content/output_folder/O=C(C(C)(C)C) C(C)=C C.png\n",
            "Image with a white background saved to: /content/output_folder/CC( C(C)=C(C) C)=O.png\n",
            "Image with a white background saved to: /content/output_folder/O=C(CC) C(C)=C(C) C.png\n",
            "Image with a white background saved to: /content/output_folder/O=C(C(C)C) C(C)=C(C) C.png\n",
            "Image with a white background saved to: /content/output_folder/O=C(C(C)(C)C) C(C)=C(C) C.png\n",
            "Image with a white background saved to: /content/output_folder/CC(C1=CC=CC=C1)=O.png\n",
            "Image with a white background saved to: /content/output_folder/O=C(CC)C1=CC=CC=C1.png\n",
            "Image with a white background saved to: /content/output_folder/O=C(C(C)C)C1=CC=CC=C1.png\n",
            "Image with a white background saved to: /content/output_folder/O=C(C(C)(C)C)C1=CC=CC=C1.png\n",
            "Image with a white background saved to: /content/output_folder/O=C(C=C)C1=CC=CC=C1.png\n",
            "Image with a white background saved to: /content/output_folder/O=C(C1CCCCC1)C2=CC=CC=C2.png\n",
            "Image with a white background saved to: /content/output_folder/O=C1CCCC1.png\n",
            "Image with a white background saved to: /content/output_folder/O=C1CCC1.png\n",
            "Image with a white background saved to: /content/output_folder/O=C1C(CC)CCC1.png\n",
            "Image with a white background saved to: /content/output_folder/O=C1C(C=C)CCC1.png\n",
            "Image with a white background saved to: /content/output_folder/O=C1C(C(C)C)CCC1.png\n",
            "Image with a white background saved to: /content/output_folder/O=C1C(C(C)(C)C)CCC1.png\n",
            "Image with a white background saved to: /content/output_folder/O=C1C2C(CCCC2)CC1.png\n",
            "Image with a white background saved to: /content/output_folder/O=C1C2=C(C=CC=C2)CC1.png\n",
            "Image with a white background saved to: /content/output_folder/O=C1CCCCC1.png\n",
            "Image with a white background saved to: /content/output_folder/O=C1C(CC)CCCC1.png\n",
            "Image with a white background saved to: /content/output_folder/O=C1C(CC)CCCC1 copy.png\n",
            "Image with a white background saved to: /content/output_folder/O=C1C(C(C)C)CCCC1.png\n",
            "Image with a white background saved to: /content/output_folder/O=C1C(C(C)(C)C)CCCC1.png\n",
            "Image with a white background saved to: /content/output_folder/O=C1C2C(CCC2)CCC1.png\n",
            "Image with a white background saved to: /content/output_folder/O=C1C2=C(C=CC=C2)CC3=C1C=CC=C3.png\n",
            "Image with a white background saved to: /content/output_folder/O=C1C2=C(CCCC2)CC3C1CCCC3.png\n",
            "Image with a white background saved to: /content/output_folder/O=C(C=C)C=C.png\n",
            "Image with a white background saved to: /content/output_folder/COC1=CC(=CC(OC)=C1OCCN1CCOCC1)C(=O)C1=CC=C(Cl)C=C1.png\n",
            "Image with a white background saved to: /content/output_folder/CNC(C)C(=O)C1=CC=CC=C1.png\n"
          ]
        },
        {
          "output_type": "stream",
          "name": "stderr",
          "text": [
            "/usr/local/lib/python3.10/dist-packages/PIL/Image.py:996: UserWarning: Palette images with Transparency expressed in bytes should be converted to RGBA images\n",
            "  warnings.warn(\n"
          ]
        },
        {
          "output_type": "stream",
          "name": "stdout",
          "text": [
            "Image with a white background saved to: /content/output_folder/CC(C)(OC1=CC=C(C=C1)C(=O)C1=CC=C(Cl)C=C1)C(O)=O.png\n",
            "Image with a white background saved to: /content/output_folder/CCC(=O)C(C[C@H](C)N(C)C)(C1=CC=CC=C1)C1=CC=CC=C1.png\n",
            "Image with a white background saved to: /content/output_folder/CCCC(=O)C1=C(OCCN(C(C)C)C(C)C)C=CC=C1.png\n",
            "Image with a white background saved to: /content/output_folder/COC1=C(C(=O)\\C=C\\C2=CC=CC=C2)C(O)=CC(O)=C1.png\n",
            "Image with a white background saved to: /content/output_folder/OC(C(=O)C1=CC=CC=C1)C1=CC=CC=C1.png\n",
            "Image with a white background saved to: /content/output_folder/CCCCCCCCCCCCCCCC(=O)C(N)CO.png\n",
            "Image with a white background saved to: /content/output_folder/CCC(=O)C(CC(C)N(C)C)C1=CC=CC=C1.png\n",
            "Image with a white background saved to: /content/output_folder/CC(C)C(C)(C)OC1=CC=C(C=C1)C(=O)C2=CC=C(C=C2).png\n",
            "Image with a white background saved to: /content/output_folder/CC(C)(C)C1=CC=C(C=C1)C(=O)CCCN1CCC(CC1)OC(C1=CC=CC=C1).png\n",
            "Image with a white background saved to: /content/output_folder/CCCCOC1=CC=C(C=C1)C(=O)CC.png\n",
            "Image with a white background saved to: /content/output_folder/COC1=C(C=CC=C1)C(=O)CCC1=CC=CC=C1.png\n",
            "Image with a white background saved to: /content/output_folder/CCC(=O)C(CC(C)N1CCCCC1)(C1=CC=CC=C1).png\n",
            "Image with a white background saved to: /content/output_folder/OC1=C2C(C(C(C3)O2)(CC4)C(CC3=O)C5N4C)=C(C=C1)C5=O.png\n",
            "Image with a white background saved to: /content/output_folder/O=C1C[C@@]2([H])C=C(CCCCC(C)=O)C[C@@]2([H])[C@H]1C=C.png\n",
            "Image with a white background saved to: /content/output_folder/OC1[C@H]2[C@H](COC2)C=C[C@H]1C(C)=O.png\n",
            "Image with a white background saved to: /content/output_folder/O=C(C1=C(CCCO)OC2=C1C=CC=C2)C3=CC(I)=C(OCCC(CC)CC)C(I)=C3.png\n",
            "Image with a white background saved to: /content/output_folder/O=C(C1=CC(I)=C(C(I)=C1)OCCC(CC)CC)C2=C(OC3=C2C=CC=C3)C.png\n",
            "Image with a white background saved to: /content/output_folder/O=C(C1=CC(I)=C(C(I)=C1)OCC)C2=C(OC3=C2C=CC=C3)C.png\n",
            "Image with a white background saved to: /content/output_folder/CC(C1=CC=CC=C1Cl)=O.png\n",
            "Image with a white background saved to: /content/output_folder/ClC1=CC=CC=C1C(C2CCCC2)=O.png\n",
            "Image with a white background saved to: /content/output_folder/O=C(C1CCC(CC1)CCC)C.png\n",
            "Image with a white background saved to: /content/output_folder/O=C1C(CCCC1)(NC)C2=CC=CC=C2Cl.png\n",
            "Image with a white background saved to: /content/output_folder/CC1=C(CCC(C)=O)CSCC1.png\n",
            "Image with a white background saved to: /content/output_folder/COC(C=C1)=CC=C1[C@@H](C2)SC3=CC=CC=C3CC2=O.png\n",
            "Image with a white background saved to: /content/output_folder/CC(C=C1)=CC=C1[C@@H](C2)SC3=CC=CC=C3CC2=O.png\n",
            "Image with a white background saved to: /content/output_folder/CC(C(CCC(C#N)(C1=CC(OC)=C(C=C1)OC)C(C)C)=O)C.png\n",
            "Image with a white background saved to: /content/output_folder/CC(CCC(C#N)(C1=CC(OC)=C(C=C1)OC)C(C)C)=O.png\n",
            "Image with a white background saved to: /content/output_folder/CC(CCC(C#N)(C1=CC=C(C=C1)OC)C(C)C)=O.png\n",
            "Image with a white background saved to: /content/output_folder/CC(CCC(C#N)(C1=CC=C(C=C1)C)C(C)C)=O.png\n",
            "Image with a white background saved to: /content/output_folder/[H][C@@]1(CCCCN1)CC(=O)C[C@@]1([H])CCCCN1.png\n",
            "Image with a white background saved to: /content/output_folder/CC(C)CC(=O)C[C@H](C)c1ccc(C)cc1.png\n",
            "Image with a white background saved to: /content/output_folder/C1CC([C@@]23[C@@](C1)(CCC([C@@H]2C3)=O)C)(C)C.png\n",
            "Image with a white background saved to: /content/output_folder/C[C@H](C1=CC=C(C=C1)OC)C(=O)C2=C(C=C(C=C2)O)O.png\n",
            "Image with a white background saved to: /content/output_folder/O=C(CCCC C=C C#CC#C C=C C)CCC.png\n",
            "Image with a white background saved to: /content/output_folder/Oc1ccc(CCC(=O)CC\\C=C\\c2ccc(O)cc2)cc1.png\n"
          ]
        }
      ]
    },
    {
      "cell_type": "markdown",
      "source": [
        "# First Model"
      ],
      "metadata": {
        "id": "CHCEPAD7vD8g"
      }
    },
    {
      "cell_type": "code",
      "source": [
        "import os\n",
        "from tensorflow.keras.preprocessing.image import load_img, img_to_array\n",
        "from tensorflow.keras.layers import Conv2D, MaxPooling2D, Flatten, Dense\n",
        "from tensorflow.keras.models import Sequential\n",
        "import numpy as np\n",
        "\n",
        "# Set the path to your dataset folder\n",
        "data_dir = '/content/output_folder'\n",
        "\n",
        "# Set the input image size\n",
        "image_size = (224, 224)\n",
        "\n",
        "# Load and preprocess the images\n",
        "images = []\n",
        "labels = []\n",
        "\n",
        "# Get a list of unique class labels from the filenames\n",
        "class_labels = sorted(set([file_name.split('_')[0] for file_name in os.listdir(data_dir)]))\n",
        "\n",
        "# Create a mapping from class labels to integer indices\n",
        "label_to_index = {label: i for i, label in enumerate(class_labels)}\n",
        "\n",
        "for file_name in os.listdir(data_dir):\n",
        "    image_path = os.path.join(data_dir, file_name)\n",
        "\n",
        "    if os.path.isfile(image_path):\n",
        "        image = load_img(image_path, target_size=image_size)\n",
        "        image_array = img_to_array(image)\n",
        "        images.append(image_array)\n",
        "        # Extract the label from the filename (assuming the filename format is 'label_filename.jpg')\n",
        "        label = file_name.split('_')[0]\n",
        "        label_index = label_to_index[label]\n",
        "        labels.append(label_index)\n",
        "    else:\n",
        "        print(f\"File not found: {image_path}\")\n",
        "\n",
        "# Convert the images and labels to NumPy arrays\n",
        "images = np.array(images)\n",
        "labels = np.array(labels)\n",
        "\n",
        "# Create the model\n",
        "model = Sequential()\n",
        "model.add(Conv2D(32, kernel_size=(3, 3), activation='relu', input_shape=(image_size[0], image_size[1], 3)))\n",
        "model.add(MaxPooling2D(pool_size=(2, 2)))\n",
        "model.add(Conv2D(64, kernel_size=(3, 3), activation='relu'))\n",
        "model.add(MaxPooling2D(pool_size=(2, 2)))\n",
        "model.add(Conv2D(128, kernel_size=(3, 3), activation='relu'))\n",
        "model.add(MaxPooling2D(pool_size=(2, 2)))\n",
        "model.add(Flatten())\n",
        "model.add(Dense(128, activation='relu'))\n",
        "model.add(Dense(len(class_labels), activation='softmax'))\n",
        "\n",
        "# Compile and train the model\n",
        "model.compile(optimizer='adam', loss='sparse_categorical_crossentropy', metrics=['accuracy'])\n",
        "model.fit(images, labels, epochs=2)\n"
      ],
      "metadata": {
        "colab": {
          "base_uri": "https://localhost:8080/"
        },
        "id": "aYfSq3ckj0RY",
        "outputId": "84225daa-408a-4594-a104-5bacdf40bc52"
      },
      "execution_count": 78,
      "outputs": [
        {
          "output_type": "stream",
          "name": "stdout",
          "text": [
            "Epoch 1/2\n",
            "4/4 [==============================] - 11s 2s/step - loss: 842.6505 - accuracy: 0.0000e+00\n",
            "Epoch 2/2\n",
            "4/4 [==============================] - 9s 2s/step - loss: 74.7335 - accuracy: 0.0206\n"
          ]
        },
        {
          "output_type": "execute_result",
          "data": {
            "text/plain": [
              "<keras.src.callbacks.History at 0x7aa5148695d0>"
            ]
          },
          "metadata": {},
          "execution_count": 78
        }
      ]
    },
    {
      "cell_type": "markdown",
      "source": [
        "# To get the label from Images"
      ],
      "metadata": {
        "id": "2WheSkmZ8BdQ"
      }
    },
    {
      "cell_type": "code",
      "source": [
        "import os\n",
        "from tensorflow.keras.preprocessing.image import load_img, img_to_array\n",
        "from tensorflow.keras.layers import Conv2D, MaxPooling2D, Flatten, Dense\n",
        "from tensorflow.keras.models import Sequential\n",
        "import numpy as np\n",
        "\n",
        "# Set the path to your dataset folder\n",
        "data_dir = '/content/output_folder'\n",
        "\n",
        "# Set the input image size\n",
        "image_size = (224, 224)\n",
        "\n",
        "# Load and preprocess the images\n",
        "images = []\n",
        "labels = []\n",
        "\n",
        "# Get a list of unique class labels from the filenames\n",
        "class_labels = sorted(set([file_name.split('_')[0] for file_name in os.listdir(data_dir)]))\n",
        "\n",
        "# Print the class labels\n",
        "print(\"Class Labels:\", class_labels)\n",
        "\n",
        "# Create a mapping from class labels to integer indices\n",
        "label_to_index = {label: i for i, label in enumerate(class_labels)}\n",
        "\n",
        "# Get a list of unique class labels from the filenames\n",
        "class_labels = sorted(set([file_name.split('_')[0].replace('.png', '') for file_name in os.listdir(data_dir)]))\n",
        "\n",
        "# Print the class labels\n",
        "print(\"Class Labels:\", class_labels)"
      ],
      "metadata": {
        "colab": {
          "base_uri": "https://localhost:8080/"
        },
        "id": "4wTWA_LI7Jdn",
        "outputId": "93f8e7c8-4a80-4fae-8973-e7af6301ac59"
      },
      "execution_count": 75,
      "outputs": [
        {
          "output_type": "stream",
          "name": "stdout",
          "text": [
            "Class Labels: ['C1CC([C@@]23[C@@](C1)(CCC([C@@H]2C3)=O)C)(C)C.png', 'CC( C(C)=C C)=O.png', 'CC( C(C)=C(C) C)=O.png', 'CC(C(C)(C)C)=O.png', 'CC(C(C)C)=O.png', 'CC(C(CCC(C#N)(C1=CC(OC)=C(C=C1)OC)C(C)C)=O)C.png', 'CC(C)(C)C1=CC=C(C=C1)C(=O)CCCN1CCC(CC1)OC(C1=CC=CC=C1).png', 'CC(C)(OC1=CC=C(C=C1)C(=O)C1=CC=C(Cl)C=C1)C(O)=O.png', 'CC(C)=O.png', 'CC(C)C(C)(C)OC1=CC=C(C=C1)C(=O)C2=CC=C(C=C2).png', 'CC(C)CC(=O)C[C@H](C)c1ccc(C)cc1.png', 'CC(C1=CC=CC=C1)=O.png', 'CC(C1=CC=CC=C1Cl)=O.png', 'CC(C=C)=O.png', 'CC(C=C1)=CC=C1[C@@H](C2)SC3=CC=CC=C3CC2=O.png', 'CC(CC)=O.png', 'CC(CCC(C#N)(C1=CC(OC)=C(C=C1)OC)C(C)C)=O.png', 'CC(CCC(C#N)(C1=CC=C(C=C1)C)C(C)C)=O.png', 'CC(CCC(C#N)(C1=CC=C(C=C1)OC)C(C)C)=O.png', 'CC1=C(CCC(C)=O)CSCC1.png', 'CCC(=O)C(CC(C)N(C)C)C1=CC=CC=C1.png', 'CCC(=O)C(CC(C)N1CCCCC1)(C1=CC=CC=C1).png', 'CCC(=O)C(C[C@H](C)N(C)C)(C1=CC=CC=C1)C1=CC=CC=C1.png', 'CCCC(=O)C1=C(OCCN(C(C)C)C(C)C)C=CC=C1.png', 'CCCCCCCCCCCCCCCC(=O)C(N)CO.png', 'CCCCOC1=CC=C(C=C1)C(=O)CC.png', 'CNC(C)C(=O)C1=CC=CC=C1.png', 'COC(C=C1)=CC=C1[C@@H](C2)SC3=CC=CC=C3CC2=O.png', 'COC1=C(C(=O)\\\\C=C\\\\C2=CC=CC=C2)C(O)=CC(O)=C1.png', 'COC1=C(C=CC=C1)C(=O)CCC1=CC=CC=C1.png', 'COC1=CC(=CC(OC)=C1OCCN1CCOCC1)C(=O)C1=CC=C(Cl)C=C1.png', 'C[C@H](C1=CC=C(C=C1)OC)C(=O)C2=C(C=C(C=C2)O)O.png', 'ClC1=CC=CC=C1C(C2CCCC2)=O.png', 'O=C(C(C)(C)C) C(C)=C C.png', 'O=C(C(C)(C)C) C(C)=C(C) C.png', 'O=C(C(C)(C)C)C(C)=C.png', 'O=C(C(C)(C)C)C(C)C.png', 'O=C(C(C)(C)C)C1=CC=CC=C1.png', 'O=C(C(C)(C)C)C=C.png', 'O=C(C(C)=C)C=C.png', 'O=C(C(C)C) C(C)=C C.png', 'O=C(C(C)C) C(C)=C(C) C.png', 'O=C(C(C)C)C(C)=C.png', 'O=C(C(C)C)C(C)C.png', 'O=C(C(C)C)C1=CC=CC=C1.png', 'O=C(C(C)C)C=C.png', 'O=C(C1=C(CCCO)OC2=C1C=CC=C2)C3=CC(I)=C(OCCC(CC)CC)C(I)=C3.png', 'O=C(C1=CC(I)=C(C(I)=C1)OCC)C2=C(OC3=C2C=CC=C3)C.png', 'O=C(C1=CC(I)=C(C(I)=C1)OCCC(CC)CC)C2=C(OC3=C2C=CC=C3)C.png', 'O=C(C1=CC=CC=C1)C(C)=C.png', 'O=C(C1=CC=CC=C1)C=C.png', 'O=C(C1CCC(CC1)CCC)C.png', 'O=C(C1CCCC1)C(C)=C.png', 'O=C(C1CCCC1)C=C.png', 'O=C(C1CCCCC1) C(C)=C C.png', 'O=C(C1CCCCC1) C(C)=C(C) C.png', 'O=C(C1CCCCC1)C2=CC=CC=C2.png', 'O=C(C=C)C1=CC=CC=C1.png', 'O=C(C=C)C=C.png', 'O=C(CC) C(C)=C C.png', 'O=C(CC) C(C)=C(C) C.png', 'O=C(CC)C(C)(C)C.png', 'O=C(CC)C(C)=C.png', 'O=C(CC)C(C)C.png', 'O=C(CC)C1=CC=CC=C1.png', 'O=C(CC)C=C.png', 'O=C(CC)CC.png', 'O=C(CCC1)C2C1CC(CCCC3)=C3C2.png', 'O=C(CCCC C=C C#CC#C C=C C)CCC.png', 'O=C([C@@H](C)CC) C(C)=C C.png', 'O=C([C@H](C)CC) C(C)=C C.png', 'O=C1C(C(C)(C)C)CCC1.png', 'O=C1C(C(C)(C)C)CCCC1.png', 'O=C1C(C(C)C)CCC1.png', 'O=C1C(C(C)C)CCCC1.png', 'O=C1C(C=C)CCC1.png', 'O=C1C(CC)CCC1.png', 'O=C1C(CC)CCCC1 copy.png', 'O=C1C(CC)CCCC1.png', 'O=C1C(CCCC1)(NC)C2=CC=CC=C2Cl.png', 'O=C1C2=C(C=CC=C2)CC1.png', 'O=C1C2=C(C=CC=C2)CC3=C1C=CC=C3.png', 'O=C1C2=C(C=CC=N2)CCC1.png', 'O=C1C2=C(CCCC2)CC3C1CCCC3.png', 'O=C1C2C(CCC2)CCC1.png', 'O=C1C2C(CCCC2)CC1.png', 'O=C1CCC1.png', 'O=C1CCCC1.png', 'O=C1CCCCC1.png', 'O=C1CCCCCCCC(C)C1.png', 'O=C1C[C@@]2([H])C=C(CCCCC(C)=O)C[C@@]2([H])[C@H]1C=C.png', 'O=C1[C@@H]2C(CCC2)CCC1.png', 'OC(C(=O)C1=CC=CC=C1)C1=CC=CC=C1.png', 'OC1=C2C(C(C(C3)O2)(CC4)C(CC3=O)C5N4C)=C(C=C1)C5=O.png', 'OC1[C@H]2[C@H](COC2)C=C[C@H]1C(C)=O.png', 'Oc1ccc(CCC(=O)CC\\\\C=C\\\\c2ccc(O)cc2)cc1.png', '[H][C@@]1(CCCCN1)CC(=O)C[C@@]1([H])CCCCN1.png']\n",
            "Class Labels: ['C1CC([C@@]23[C@@](C1)(CCC([C@@H]2C3)=O)C)(C)C', 'CC( C(C)=C C)=O', 'CC( C(C)=C(C) C)=O', 'CC(C(C)(C)C)=O', 'CC(C(C)C)=O', 'CC(C(CCC(C#N)(C1=CC(OC)=C(C=C1)OC)C(C)C)=O)C', 'CC(C)(C)C1=CC=C(C=C1)C(=O)CCCN1CCC(CC1)OC(C1=CC=CC=C1)', 'CC(C)(OC1=CC=C(C=C1)C(=O)C1=CC=C(Cl)C=C1)C(O)=O', 'CC(C)=O', 'CC(C)C(C)(C)OC1=CC=C(C=C1)C(=O)C2=CC=C(C=C2)', 'CC(C)CC(=O)C[C@H](C)c1ccc(C)cc1', 'CC(C1=CC=CC=C1)=O', 'CC(C1=CC=CC=C1Cl)=O', 'CC(C=C)=O', 'CC(C=C1)=CC=C1[C@@H](C2)SC3=CC=CC=C3CC2=O', 'CC(CC)=O', 'CC(CCC(C#N)(C1=CC(OC)=C(C=C1)OC)C(C)C)=O', 'CC(CCC(C#N)(C1=CC=C(C=C1)C)C(C)C)=O', 'CC(CCC(C#N)(C1=CC=C(C=C1)OC)C(C)C)=O', 'CC1=C(CCC(C)=O)CSCC1', 'CCC(=O)C(CC(C)N(C)C)C1=CC=CC=C1', 'CCC(=O)C(CC(C)N1CCCCC1)(C1=CC=CC=C1)', 'CCC(=O)C(C[C@H](C)N(C)C)(C1=CC=CC=C1)C1=CC=CC=C1', 'CCCC(=O)C1=C(OCCN(C(C)C)C(C)C)C=CC=C1', 'CCCCCCCCCCCCCCCC(=O)C(N)CO', 'CCCCOC1=CC=C(C=C1)C(=O)CC', 'CNC(C)C(=O)C1=CC=CC=C1', 'COC(C=C1)=CC=C1[C@@H](C2)SC3=CC=CC=C3CC2=O', 'COC1=C(C(=O)\\\\C=C\\\\C2=CC=CC=C2)C(O)=CC(O)=C1', 'COC1=C(C=CC=C1)C(=O)CCC1=CC=CC=C1', 'COC1=CC(=CC(OC)=C1OCCN1CCOCC1)C(=O)C1=CC=C(Cl)C=C1', 'C[C@H](C1=CC=C(C=C1)OC)C(=O)C2=C(C=C(C=C2)O)O', 'ClC1=CC=CC=C1C(C2CCCC2)=O', 'O=C(C(C)(C)C) C(C)=C C', 'O=C(C(C)(C)C) C(C)=C(C) C', 'O=C(C(C)(C)C)C(C)=C', 'O=C(C(C)(C)C)C(C)C', 'O=C(C(C)(C)C)C1=CC=CC=C1', 'O=C(C(C)(C)C)C=C', 'O=C(C(C)=C)C=C', 'O=C(C(C)C) C(C)=C C', 'O=C(C(C)C) C(C)=C(C) C', 'O=C(C(C)C)C(C)=C', 'O=C(C(C)C)C(C)C', 'O=C(C(C)C)C1=CC=CC=C1', 'O=C(C(C)C)C=C', 'O=C(C1=C(CCCO)OC2=C1C=CC=C2)C3=CC(I)=C(OCCC(CC)CC)C(I)=C3', 'O=C(C1=CC(I)=C(C(I)=C1)OCC)C2=C(OC3=C2C=CC=C3)C', 'O=C(C1=CC(I)=C(C(I)=C1)OCCC(CC)CC)C2=C(OC3=C2C=CC=C3)C', 'O=C(C1=CC=CC=C1)C(C)=C', 'O=C(C1=CC=CC=C1)C=C', 'O=C(C1CCC(CC1)CCC)C', 'O=C(C1CCCC1)C(C)=C', 'O=C(C1CCCC1)C=C', 'O=C(C1CCCCC1) C(C)=C C', 'O=C(C1CCCCC1) C(C)=C(C) C', 'O=C(C1CCCCC1)C2=CC=CC=C2', 'O=C(C=C)C1=CC=CC=C1', 'O=C(C=C)C=C', 'O=C(CC) C(C)=C C', 'O=C(CC) C(C)=C(C) C', 'O=C(CC)C(C)(C)C', 'O=C(CC)C(C)=C', 'O=C(CC)C(C)C', 'O=C(CC)C1=CC=CC=C1', 'O=C(CC)C=C', 'O=C(CC)CC', 'O=C(CCC1)C2C1CC(CCCC3)=C3C2', 'O=C(CCCC C=C C#CC#C C=C C)CCC', 'O=C([C@@H](C)CC) C(C)=C C', 'O=C([C@H](C)CC) C(C)=C C', 'O=C1C(C(C)(C)C)CCC1', 'O=C1C(C(C)(C)C)CCCC1', 'O=C1C(C(C)C)CCC1', 'O=C1C(C(C)C)CCCC1', 'O=C1C(C=C)CCC1', 'O=C1C(CC)CCC1', 'O=C1C(CC)CCCC1', 'O=C1C(CC)CCCC1 copy', 'O=C1C(CCCC1)(NC)C2=CC=CC=C2Cl', 'O=C1C2=C(C=CC=C2)CC1', 'O=C1C2=C(C=CC=C2)CC3=C1C=CC=C3', 'O=C1C2=C(C=CC=N2)CCC1', 'O=C1C2=C(CCCC2)CC3C1CCCC3', 'O=C1C2C(CCC2)CCC1', 'O=C1C2C(CCCC2)CC1', 'O=C1CCC1', 'O=C1CCCC1', 'O=C1CCCCC1', 'O=C1CCCCCCCC(C)C1', 'O=C1C[C@@]2([H])C=C(CCCCC(C)=O)C[C@@]2([H])[C@H]1C=C', 'O=C1[C@@H]2C(CCC2)CCC1', 'OC(C(=O)C1=CC=CC=C1)C1=CC=CC=C1', 'OC1=C2C(C(C(C3)O2)(CC4)C(CC3=O)C5N4C)=C(C=C1)C5=O', 'OC1[C@H]2[C@H](COC2)C=C[C@H]1C(C)=O', 'Oc1ccc(CCC(=O)CC\\\\C=C\\\\c2ccc(O)cc2)cc1', '[H][C@@]1(CCCCN1)CC(=O)C[C@@]1([H])CCCCN1']\n",
            "[]\n"
          ]
        }
      ]
    },
    {
      "cell_type": "code",
      "source": [
        "import os\n",
        "from tensorflow.keras.preprocessing.image import load_img, img_to_array\n",
        "from tensorflow.keras.layers import Conv2D, MaxPooling2D, Flatten, Dense\n",
        "from tensorflow.keras.models import Sequential\n",
        "import numpy as np\n",
        "\n",
        "# Set the path to your dataset folder\n",
        "data_dir = '/content/output_folder'\n",
        "\n",
        "# Set the input image size\n",
        "image_size = (224, 224)\n",
        "\n",
        "# Load and preprocess the images\n",
        "images = []\n",
        "labels = []\n",
        "\n",
        "# Get a list of unique class labels from the filenames\n",
        "class_labels = sorted(set([file_name.split('_')[0].replace('.png', '') for file_name in os.listdir(data_dir)]))\n",
        "\n",
        "# Print the class labels\n",
        "print(\"Class Labels:\", class_labels)\n",
        "\n",
        "# Create a mapping from class labels to integer indices\n",
        "label_to_index = {label: i for i, label in enumerate(class_labels)}\n",
        "\n",
        "# Loop through the files in the dataset directory and load/preprocess images\n",
        "for file_name in os.listdir(data_dir):\n",
        "    image_path = os.path.join(data_dir, file_name)\n",
        "\n",
        "    if os.path.isfile(image_path):\n",
        "        image = load_img(image_path, target_size=image_size)\n",
        "        image_array = img_to_array(image)\n",
        "        images.append(image_array)\n",
        "        # Extract the label from the filename (assuming the filename format is 'label_filename.jpg')\n",
        "        label = file_name.split('_')[0].replace('.png', '')\n",
        "        label_index = label_to_index[label]\n",
        "        labels.append(label_index)\n",
        "    else:\n",
        "        print(f\"File not found: {image_path}\")\n",
        "\n",
        "# Convert the images and labels to NumPy arrays\n",
        "images = np.array(images)\n",
        "labels = np.array(labels)\n",
        "\n",
        "# Create the model\n",
        "model = Sequential()\n",
        "model.add(Conv2D(32, kernel_size=(3, 3), activation='relu', input_shape=(image_size[0], image_size[1], 3)))\n",
        "model.add(MaxPooling2D(pool_size=(2, 2)))\n",
        "model.add(Conv2D(64, kernel_size=(3, 3), activation='relu'))\n",
        "model.add(MaxPooling2D(pool_size=(2, 2)))\n",
        "model.add(Conv2D(128, kernel_size=(3, 3), activation='relu'))\n",
        "model.add(MaxPooling2D(pool_size=(2, 2)))\n",
        "model.add(Flatten())\n",
        "model.add(Dense(128, activation='relu'))\n",
        "model.add(Dense(len(class_labels), activation='softmax'))\n",
        "\n",
        "# Compile and train the model\n",
        "model.compile(optimizer='adam', loss='sparse_categorical_crossentropy', metrics=['accuracy'])\n",
        "model.fit(images, labels, epochs=20)"
      ],
      "metadata": {
        "colab": {
          "base_uri": "https://localhost:8080/"
        },
        "id": "4mMMQi3d721O",
        "outputId": "042c58d0-2938-4f68-918e-39293573a7c0"
      },
      "execution_count": 77,
      "outputs": [
        {
          "output_type": "stream",
          "name": "stdout",
          "text": [
            "Class Labels: ['C1CC([C@@]23[C@@](C1)(CCC([C@@H]2C3)=O)C)(C)C', 'CC( C(C)=C C)=O', 'CC( C(C)=C(C) C)=O', 'CC(C(C)(C)C)=O', 'CC(C(C)C)=O', 'CC(C(CCC(C#N)(C1=CC(OC)=C(C=C1)OC)C(C)C)=O)C', 'CC(C)(C)C1=CC=C(C=C1)C(=O)CCCN1CCC(CC1)OC(C1=CC=CC=C1)', 'CC(C)(OC1=CC=C(C=C1)C(=O)C1=CC=C(Cl)C=C1)C(O)=O', 'CC(C)=O', 'CC(C)C(C)(C)OC1=CC=C(C=C1)C(=O)C2=CC=C(C=C2)', 'CC(C)CC(=O)C[C@H](C)c1ccc(C)cc1', 'CC(C1=CC=CC=C1)=O', 'CC(C1=CC=CC=C1Cl)=O', 'CC(C=C)=O', 'CC(C=C1)=CC=C1[C@@H](C2)SC3=CC=CC=C3CC2=O', 'CC(CC)=O', 'CC(CCC(C#N)(C1=CC(OC)=C(C=C1)OC)C(C)C)=O', 'CC(CCC(C#N)(C1=CC=C(C=C1)C)C(C)C)=O', 'CC(CCC(C#N)(C1=CC=C(C=C1)OC)C(C)C)=O', 'CC1=C(CCC(C)=O)CSCC1', 'CCC(=O)C(CC(C)N(C)C)C1=CC=CC=C1', 'CCC(=O)C(CC(C)N1CCCCC1)(C1=CC=CC=C1)', 'CCC(=O)C(C[C@H](C)N(C)C)(C1=CC=CC=C1)C1=CC=CC=C1', 'CCCC(=O)C1=C(OCCN(C(C)C)C(C)C)C=CC=C1', 'CCCCCCCCCCCCCCCC(=O)C(N)CO', 'CCCCOC1=CC=C(C=C1)C(=O)CC', 'CNC(C)C(=O)C1=CC=CC=C1', 'COC(C=C1)=CC=C1[C@@H](C2)SC3=CC=CC=C3CC2=O', 'COC1=C(C(=O)\\\\C=C\\\\C2=CC=CC=C2)C(O)=CC(O)=C1', 'COC1=C(C=CC=C1)C(=O)CCC1=CC=CC=C1', 'COC1=CC(=CC(OC)=C1OCCN1CCOCC1)C(=O)C1=CC=C(Cl)C=C1', 'C[C@H](C1=CC=C(C=C1)OC)C(=O)C2=C(C=C(C=C2)O)O', 'ClC1=CC=CC=C1C(C2CCCC2)=O', 'O=C(C(C)(C)C) C(C)=C C', 'O=C(C(C)(C)C) C(C)=C(C) C', 'O=C(C(C)(C)C)C(C)=C', 'O=C(C(C)(C)C)C(C)C', 'O=C(C(C)(C)C)C1=CC=CC=C1', 'O=C(C(C)(C)C)C=C', 'O=C(C(C)=C)C=C', 'O=C(C(C)C) C(C)=C C', 'O=C(C(C)C) C(C)=C(C) C', 'O=C(C(C)C)C(C)=C', 'O=C(C(C)C)C(C)C', 'O=C(C(C)C)C1=CC=CC=C1', 'O=C(C(C)C)C=C', 'O=C(C1=C(CCCO)OC2=C1C=CC=C2)C3=CC(I)=C(OCCC(CC)CC)C(I)=C3', 'O=C(C1=CC(I)=C(C(I)=C1)OCC)C2=C(OC3=C2C=CC=C3)C', 'O=C(C1=CC(I)=C(C(I)=C1)OCCC(CC)CC)C2=C(OC3=C2C=CC=C3)C', 'O=C(C1=CC=CC=C1)C(C)=C', 'O=C(C1=CC=CC=C1)C=C', 'O=C(C1CCC(CC1)CCC)C', 'O=C(C1CCCC1)C(C)=C', 'O=C(C1CCCC1)C=C', 'O=C(C1CCCCC1) C(C)=C C', 'O=C(C1CCCCC1) C(C)=C(C) C', 'O=C(C1CCCCC1)C2=CC=CC=C2', 'O=C(C=C)C1=CC=CC=C1', 'O=C(C=C)C=C', 'O=C(CC) C(C)=C C', 'O=C(CC) C(C)=C(C) C', 'O=C(CC)C(C)(C)C', 'O=C(CC)C(C)=C', 'O=C(CC)C(C)C', 'O=C(CC)C1=CC=CC=C1', 'O=C(CC)C=C', 'O=C(CC)CC', 'O=C(CCC1)C2C1CC(CCCC3)=C3C2', 'O=C(CCCC C=C C#CC#C C=C C)CCC', 'O=C([C@@H](C)CC) C(C)=C C', 'O=C([C@H](C)CC) C(C)=C C', 'O=C1C(C(C)(C)C)CCC1', 'O=C1C(C(C)(C)C)CCCC1', 'O=C1C(C(C)C)CCC1', 'O=C1C(C(C)C)CCCC1', 'O=C1C(C=C)CCC1', 'O=C1C(CC)CCC1', 'O=C1C(CC)CCCC1', 'O=C1C(CC)CCCC1 copy', 'O=C1C(CCCC1)(NC)C2=CC=CC=C2Cl', 'O=C1C2=C(C=CC=C2)CC1', 'O=C1C2=C(C=CC=C2)CC3=C1C=CC=C3', 'O=C1C2=C(C=CC=N2)CCC1', 'O=C1C2=C(CCCC2)CC3C1CCCC3', 'O=C1C2C(CCC2)CCC1', 'O=C1C2C(CCCC2)CC1', 'O=C1CCC1', 'O=C1CCCC1', 'O=C1CCCCC1', 'O=C1CCCCCCCC(C)C1', 'O=C1C[C@@]2([H])C=C(CCCCC(C)=O)C[C@@]2([H])[C@H]1C=C', 'O=C1[C@@H]2C(CCC2)CCC1', 'OC(C(=O)C1=CC=CC=C1)C1=CC=CC=C1', 'OC1=C2C(C(C(C3)O2)(CC4)C(CC3=O)C5N4C)=C(C=C1)C5=O', 'OC1[C@H]2[C@H](COC2)C=C[C@H]1C(C)=O', 'Oc1ccc(CCC(=O)CC\\\\C=C\\\\c2ccc(O)cc2)cc1', '[H][C@@]1(CCCCN1)CC(=O)C[C@@]1([H])CCCCN1']\n",
            "Epoch 1/20\n",
            "4/4 [==============================] - 12s 2s/step - loss: 1006.8455 - accuracy: 0.0000e+00\n",
            "Epoch 2/20\n",
            "4/4 [==============================] - 11s 3s/step - loss: 48.1762 - accuracy: 0.0103\n",
            "Epoch 3/20\n",
            "4/4 [==============================] - 12s 3s/step - loss: 5.0650 - accuracy: 0.0722\n",
            "Epoch 4/20\n",
            "4/4 [==============================] - 12s 2s/step - loss: 9.9269 - accuracy: 0.0412\n",
            "Epoch 5/20\n",
            "4/4 [==============================] - 10s 2s/step - loss: 3.8550 - accuracy: 0.3196\n",
            "Epoch 6/20\n",
            "4/4 [==============================] - 10s 2s/step - loss: 3.5669 - accuracy: 0.2990\n",
            "Epoch 7/20\n",
            "4/4 [==============================] - 8s 2s/step - loss: 4.0349 - accuracy: 0.4021\n",
            "Epoch 8/20\n",
            "4/4 [==============================] - 10s 2s/step - loss: 5.2301 - accuracy: 0.0825\n",
            "Epoch 9/20\n",
            "4/4 [==============================] - 9s 2s/step - loss: 4.4945 - accuracy: 0.0928\n",
            "Epoch 10/20\n",
            "4/4 [==============================] - 9s 2s/step - loss: 5.8605 - accuracy: 0.1134\n",
            "Epoch 11/20\n",
            "4/4 [==============================] - 10s 2s/step - loss: 4.4100 - accuracy: 0.1237\n",
            "Epoch 12/20\n",
            "4/4 [==============================] - 9s 2s/step - loss: 4.4306 - accuracy: 0.0515\n",
            "Epoch 13/20\n",
            "4/4 [==============================] - 9s 2s/step - loss: 4.3581 - accuracy: 0.0619\n",
            "Epoch 14/20\n",
            "4/4 [==============================] - 10s 2s/step - loss: 4.2862 - accuracy: 0.0825\n",
            "Epoch 15/20\n",
            "4/4 [==============================] - 9s 2s/step - loss: 4.2163 - accuracy: 0.1237\n",
            "Epoch 16/20\n",
            "4/4 [==============================] - 10s 2s/step - loss: 5.1235 - accuracy: 0.1546\n",
            "Epoch 17/20\n",
            "4/4 [==============================] - 10s 2s/step - loss: 4.3250 - accuracy: 0.0722\n",
            "Epoch 18/20\n",
            "4/4 [==============================] - 8s 2s/step - loss: 4.3713 - accuracy: 0.0412\n",
            "Epoch 19/20\n",
            "4/4 [==============================] - 10s 2s/step - loss: 4.3639 - accuracy: 0.0722\n",
            "Epoch 20/20\n",
            "4/4 [==============================] - 10s 2s/step - loss: 4.2213 - accuracy: 0.1237\n"
          ]
        },
        {
          "output_type": "execute_result",
          "data": {
            "text/plain": [
              "<keras.src.callbacks.History at 0x7aa5305e4400>"
            ]
          },
          "metadata": {},
          "execution_count": 77
        }
      ]
    },
    {
      "cell_type": "code",
      "source": [
        "import os\n",
        "from tensorflow.keras.preprocessing.image import load_img, img_to_array\n",
        "from tensorflow.keras.layers import Conv2D, MaxPooling2D, Flatten, Dense\n",
        "from tensorflow.keras.models import Sequential\n",
        "import numpy as np\n",
        "from sklearn.model_selection import train_test_split\n",
        "from sklearn.metrics import classification_report\n",
        "\n",
        "# Set the path to your dataset folder\n",
        "data_dir = '/content/output_folder'\n",
        "\n",
        "# Set the input image size\n",
        "image_size = (224, 224)\n",
        "\n",
        "# Load and preprocess the images\n",
        "images = []\n",
        "labels = []\n",
        "\n",
        "# Get a list of unique class labels from the filenames\n",
        "class_labels = sorted(set([file_name.split('_')[0] for file_name in os.listdir(data_dir)]))\n",
        "\n",
        "# Create a mapping from class labels to integer indices\n",
        "label_to_index = {label: i for i, label in enumerate(class_labels)}\n",
        "\n",
        "for file_name in os.listdir(data_dir):\n",
        "    image_path = os.path.join(data_dir, file_name)\n",
        "\n",
        "    if os.path.isfile(image_path):\n",
        "        image = load_img(image_path, target_size=image_size)\n",
        "        image_array = img_to_array(image)\n",
        "        images.append(image_array)\n",
        "        # Extract the label from the filename (assuming the filename format is 'label_filename.jpg')\n",
        "        label = file_name.split('_')[0]\n",
        "        label_index = label_to_index[label]\n",
        "        labels.append(label_index)\n",
        "    else:\n",
        "        print(f\"File not found: {image_path}\")\n",
        "\n",
        "# Convert the images and labels to NumPy arrays\n",
        "images = np.array(images)\n",
        "labels = np.array(labels)\n",
        "\n",
        "# Split the data into training and test sets\n",
        "X_train, X_test, y_train, y_test = train_test_split(images, labels, test_size=0.2, random_state=42)\n",
        "\n",
        "# Create the model\n",
        "model = Sequential()\n",
        "model.add(Conv2D(32, kernel_size=(3, 3), activation='relu', input_shape=(image_size[0], image_size[1], 3)))\n",
        "model.add(MaxPooling2D(pool_size=(2, 2)))\n",
        "model.add(Conv2D(64, kernel_size=(3, 3), activation='relu'))\n",
        "model.add(MaxPooling2D(pool_size=(2, 2)))\n",
        "model.add(Conv2D(128, kernel_size=(3, 3), activation='relu'))\n",
        "model.add(MaxPooling2D(pool_size=(2, 2)))\n",
        "model.add(Flatten())\n",
        "model.add(Dense(128, activation='relu'))\n",
        "model.add(Dense(len(class_labels), activation='softmax'))\n",
        "\n",
        "# Compile and train the model\n",
        "model.compile(optimizer='adam', loss='sparse_categorical_crossentropy', metrics=['accuracy'])\n",
        "model.fit(X_train, y_train, epochs=20)\n",
        "\n",
        "# Get predictions for the test set\n",
        "y_pred = model.predict(X_test)\n",
        "\n",
        "# Convert one-hot encoded predictions to class labels\n",
        "y_pred_classes = np.argmax(y_pred, axis=1)\n",
        "\n",
        "# Calculate precision, recall, and F1-score\n",
        "report = classification_report(y_test, y_pred_classes, target_names=class_labels)\n",
        "print(report)"
      ],
      "metadata": {
        "colab": {
          "base_uri": "https://localhost:8080/",
          "height": 1000
        },
        "id": "sDLpiQC52M31",
        "outputId": "fc87a9f3-6a4e-4208-ee5c-88aedf31712b"
      },
      "execution_count": 48,
      "outputs": [
        {
          "output_type": "stream",
          "name": "stdout",
          "text": [
            "Epoch 1/20\n",
            "3/3 [==============================] - 13s 3s/step - loss: 519.4919 - accuracy: 0.0000e+00\n",
            "Epoch 2/20\n",
            "3/3 [==============================] - 6s 2s/step - loss: 174.9458 - accuracy: 0.0260\n",
            "Epoch 3/20\n",
            "3/3 [==============================] - 11s 3s/step - loss: 6.5163 - accuracy: 0.0130\n",
            "Epoch 4/20\n",
            "3/3 [==============================] - 6s 2s/step - loss: 7.6387 - accuracy: 0.0390\n",
            "Epoch 5/20\n",
            "3/3 [==============================] - 8s 2s/step - loss: 3.6919 - accuracy: 0.2208\n",
            "Epoch 6/20\n",
            "3/3 [==============================] - 6s 2s/step - loss: 5.5101 - accuracy: 0.1039\n",
            "Epoch 7/20\n",
            "3/3 [==============================] - 8s 2s/step - loss: 2.5899 - accuracy: 0.4286\n",
            "Epoch 8/20\n",
            "3/3 [==============================] - 6s 2s/step - loss: 1.8584 - accuracy: 0.6753\n",
            "Epoch 9/20\n",
            "3/3 [==============================] - 9s 2s/step - loss: 1.0313 - accuracy: 0.7922\n",
            "Epoch 10/20\n",
            "3/3 [==============================] - 7s 2s/step - loss: 0.5231 - accuracy: 0.8701\n",
            "Epoch 11/20\n",
            "3/3 [==============================] - 8s 2s/step - loss: 0.3527 - accuracy: 0.9221\n",
            "Epoch 12/20\n",
            "3/3 [==============================] - 7s 2s/step - loss: 0.2919 - accuracy: 0.9351\n",
            "Epoch 13/20\n",
            "3/3 [==============================] - 8s 2s/step - loss: 0.2679 - accuracy: 0.9481\n",
            "Epoch 14/20\n",
            "3/3 [==============================] - 7s 2s/step - loss: 0.3153 - accuracy: 0.9221\n",
            "Epoch 15/20\n",
            "3/3 [==============================] - 8s 2s/step - loss: 0.2063 - accuracy: 0.9481\n",
            "Epoch 16/20\n",
            "3/3 [==============================] - 7s 2s/step - loss: 0.1838 - accuracy: 0.9481\n",
            "Epoch 17/20\n",
            "3/3 [==============================] - 8s 2s/step - loss: 0.1656 - accuracy: 0.9481\n",
            "Epoch 18/20\n",
            "3/3 [==============================] - 7s 2s/step - loss: 0.1551 - accuracy: 0.9481\n",
            "Epoch 19/20\n",
            "3/3 [==============================] - 7s 2s/step - loss: 0.1516 - accuracy: 0.9481\n",
            "Epoch 20/20\n",
            "3/3 [==============================] - 8s 3s/step - loss: 0.1440 - accuracy: 0.9351\n",
            "1/1 [==============================] - 1s 1s/step\n"
          ]
        },
        {
          "output_type": "error",
          "ename": "ValueError",
          "evalue": "ignored",
          "traceback": [
            "\u001b[0;31m---------------------------------------------------------------------------\u001b[0m",
            "\u001b[0;31mValueError\u001b[0m                                Traceback (most recent call last)",
            "\u001b[0;32m<ipython-input-48-38fd1c9fc32e>\u001b[0m in \u001b[0;36m<cell line: 69>\u001b[0;34m()\u001b[0m\n\u001b[1;32m     67\u001b[0m \u001b[0;34m\u001b[0m\u001b[0m\n\u001b[1;32m     68\u001b[0m \u001b[0;31m# Calculate precision, recall, and F1-score\u001b[0m\u001b[0;34m\u001b[0m\u001b[0;34m\u001b[0m\u001b[0m\n\u001b[0;32m---> 69\u001b[0;31m \u001b[0mreport\u001b[0m \u001b[0;34m=\u001b[0m \u001b[0mclassification_report\u001b[0m\u001b[0;34m(\u001b[0m\u001b[0my_test\u001b[0m\u001b[0;34m,\u001b[0m \u001b[0my_pred_classes\u001b[0m\u001b[0;34m,\u001b[0m \u001b[0mtarget_names\u001b[0m\u001b[0;34m=\u001b[0m\u001b[0mclass_labels\u001b[0m\u001b[0;34m)\u001b[0m\u001b[0;34m\u001b[0m\u001b[0;34m\u001b[0m\u001b[0m\n\u001b[0m\u001b[1;32m     70\u001b[0m \u001b[0mprint\u001b[0m\u001b[0;34m(\u001b[0m\u001b[0mreport\u001b[0m\u001b[0;34m)\u001b[0m\u001b[0;34m\u001b[0m\u001b[0;34m\u001b[0m\u001b[0m\n",
            "\u001b[0;32m/usr/local/lib/python3.10/dist-packages/sklearn/metrics/_classification.py\u001b[0m in \u001b[0;36mclassification_report\u001b[0;34m(y_true, y_pred, labels, target_names, sample_weight, digits, output_dict, zero_division)\u001b[0m\n\u001b[1;32m   2330\u001b[0m             )\n\u001b[1;32m   2331\u001b[0m         \u001b[0;32melse\u001b[0m\u001b[0;34m:\u001b[0m\u001b[0;34m\u001b[0m\u001b[0;34m\u001b[0m\u001b[0m\n\u001b[0;32m-> 2332\u001b[0;31m             raise ValueError(\n\u001b[0m\u001b[1;32m   2333\u001b[0m                 \u001b[0;34m\"Number of classes, {0}, does not match size of \"\u001b[0m\u001b[0;34m\u001b[0m\u001b[0;34m\u001b[0m\u001b[0m\n\u001b[1;32m   2334\u001b[0m                 \u001b[0;34m\"target_names, {1}. Try specifying the labels \"\u001b[0m\u001b[0;34m\u001b[0m\u001b[0;34m\u001b[0m\u001b[0m\n",
            "\u001b[0;31mValueError\u001b[0m: Number of classes, 34, does not match size of target_names, 97. Try specifying the labels parameter"
          ]
        }
      ]
    },
    {
      "cell_type": "markdown",
      "source": [
        "# Train Model"
      ],
      "metadata": {
        "id": "CC52-N1du4ko"
      }
    },
    {
      "cell_type": "markdown",
      "source": [
        "#Test Image"
      ],
      "metadata": {
        "id": "q07tQDDUuyiW"
      }
    },
    {
      "cell_type": "code",
      "source": [
        "class_labels =['C1CC([C@@]23[C@@](C1)(CCC([C@@H]2C3)=O)C)(C)C', 'CC( C(C)=C C)=O', 'CC( C(C)=C(C) C)=O', 'CC(C(C)(C)C)=O', 'CC(C(C)C)=O', 'CC(C(CCC(C#N)(C1=CC(OC)=C(C=C1)OC)C(C)C)=O)C', 'CC(C)(C)C1=CC=C(C=C1)C(=O)CCCN1CCC(CC1)OC(C1=CC=CC=C1)', 'CC(C)(OC1=CC=C(C=C1)C(=O)C1=CC=C(Cl)C=C1)C(O)=O', 'CC(C)=O', 'CC(C)C(C)(C)OC1=CC=C(C=C1)C(=O)C2=CC=C(C=C2)', 'CC(C)CC(=O)C[C@H](C)c1ccc(C)cc1', 'CC(C1=CC=CC=C1)=O', 'CC(C1=CC=CC=C1Cl)=O', 'CC(C=C)=O', 'CC(C=C1)=CC=C1[C@@H](C2)SC3=CC=CC=C3CC2=O', 'CC(CC)=O', 'CC(CCC(C#N)(C1=CC(OC)=C(C=C1)OC)C(C)C)=O', 'CC(CCC(C#N)(C1=CC=C(C=C1)C)C(C)C)=O', 'CC(CCC(C#N)(C1=CC=C(C=C1)OC)C(C)C)=O', 'CC1=C(CCC(C)=O)CSCC1', 'CCC(=O)C(CC(C)N(C)C)C1=CC=CC=C1', 'CCC(=O)C(CC(C)N1CCCCC1)(C1=CC=CC=C1)', 'CCC(=O)C(C[C@H](C)N(C)C)(C1=CC=CC=C1)C1=CC=CC=C1', 'CCCC(=O)C1=C(OCCN(C(C)C)C(C)C)C=CC=C1', 'CCCCCCCCCCCCCCCC(=O)C(N)CO', 'CCCCOC1=CC=C(C=C1)C(=O)CC', 'CNC(C)C(=O)C1=CC=CC=C1', 'COC(C=C1)=CC=C1[C@@H](C2)SC3=CC=CC=C3CC2=O', 'COC1=C(C(=O)\\\\C=C\\\\C2=CC=CC=C2)C(O)=CC(O)=C1', 'COC1=C(C=CC=C1)C(=O)CCC1=CC=CC=C1', 'COC1=CC(=CC(OC)=C1OCCN1CCOCC1)C(=O)C1=CC=C(Cl)C=C1', 'C[C@H](C1=CC=C(C=C1)OC)C(=O)C2=C(C=C(C=C2)O)O', 'ClC1=CC=CC=C1C(C2CCCC2)=O', 'O=C(C(C)(C)C) C(C)=C C', 'O=C(C(C)(C)C) C(C)=C(C) C', 'O=C(C(C)(C)C)C(C)=C', 'O=C(C(C)(C)C)C(C)C', 'O=C(C(C)(C)C)C1=CC=CC=C1', 'O=C(C(C)(C)C)C=C', 'O=C(C(C)=C)C=C', 'O=C(C(C)C) C(C)=C C', 'O=C(C(C)C) C(C)=C(C) C', 'O=C(C(C)C)C(C)=C', 'O=C(C(C)C)C(C)C', 'O=C(C(C)C)C1=CC=CC=C1', 'O=C(C(C)C)C=C', 'O=C(C1=C(CCCO)OC2=C1C=CC=C2)C3=CC(I)=C(OCCC(CC)CC)C(I)=C3', 'O=C(C1=CC(I)=C(C(I)=C1)OCC)C2=C(OC3=C2C=CC=C3)C', 'O=C(C1=CC(I)=C(C(I)=C1)OCCC(CC)CC)C2=C(OC3=C2C=CC=C3)C', 'O=C(C1=CC=CC=C1)C(C)=C', 'O=C(C1=CC=CC=C1)C=C', 'O=C(C1CCC(CC1)CCC)C', 'O=C(C1CCCC1)C(C)=C', 'O=C(C1CCCC1)C=C', 'O=C(C1CCCCC1) C(C)=C C', 'O=C(C1CCCCC1) C(C)=C(C) C', 'O=C(C1CCCCC1)C2=CC=CC=C2', 'O=C(C=C)C1=CC=CC=C1', 'O=C(C=C)C=C', 'O=C(CC) C(C)=C C', 'O=C(CC) C(C)=C(C) C', 'O=C(CC)C(C)(C)C', 'O=C(CC)C(C)=C', 'O=C(CC)C(C)C', 'O=C(CC)C1=CC=CC=C1', 'O=C(CC)C=C', 'O=C(CC)CC', 'O=C(CCC1)C2C1CC(CCCC3)=C3C2', 'O=C(CCCC C=C C#CC#C C=C C)CCC', 'O=C([C@@H](C)CC) C(C)=C C', 'O=C([C@H](C)CC) C(C)=C C', 'O=C1C(C(C)(C)C)CCC1', 'O=C1C(C(C)(C)C)CCCC1', 'O=C1C(C(C)C)CCC1', 'O=C1C(C(C)C)CCCC1', 'O=C1C(C=C)CCC1', 'O=C1C(CC)CCC1', 'O=C1C(CC)CCCC1', 'O=C1C(CC)CCCC1 copy', 'O=C1C(CCCC1)(NC)C2=CC=CC=C2Cl', 'O=C1C2=C(C=CC=C2)CC1', 'O=C1C2=C(C=CC=C2)CC3=C1C=CC=C3', 'O=C1C2=C(C=CC=N2)CCC1', 'O=C1C2=C(CCCC2)CC3C1CCCC3', 'O=C1C2C(CCC2)CCC1', 'O=C1C2C(CCCC2)CC1', 'O=C1CCC1', 'O=C1CCCC1', 'O=C1CCCCC1', 'O=C1CCCCCCCC(C)C1', 'O=C1C[C@@]2([H])C=C(CCCCC(C)=O)C[C@@]2([H])[C@H]1C=C', 'O=C1[C@@H]2C(CCC2)CCC1', 'OC(C(=O)C1=CC=CC=C1)C1=CC=CC=C1', 'OC1=C2C(C(C(C3)O2)(CC4)C(CC3=O)C5N4C)=C(C=C1)C5=O', 'OC1[C@H]2[C@H](COC2)C=C[C@H]1C(C)=O', 'Oc1ccc(CCC(=O)CC\\\\C=C\\\\c2ccc(O)cc2)cc1', '[H][C@@]1(CCCCN1)CC(=O)C[C@@]1([H])CCCCN1']\n",
        "y_pred = model.predict(X_test)\n",
        "y_pred_classes = np.argmax(y_pred, axis=1)\n",
        "\n",
        "# Calculate precision, recall, and F1-score\n",
        "from sklearn.metrics import classification_report\n",
        "report = classification_report(y_test, y_pred_classes, target_names=class_labels)\n",
        "print(report)"
      ],
      "metadata": {
        "colab": {
          "base_uri": "https://localhost:8080/",
          "height": 384
        },
        "id": "6GTItMu_-ayU",
        "outputId": "e5101adf-0203-4ca4-9873-59486fcade92"
      },
      "execution_count": 83,
      "outputs": [
        {
          "output_type": "stream",
          "name": "stdout",
          "text": [
            "1/1 [==============================] - 1s 504ms/step\n"
          ]
        },
        {
          "output_type": "error",
          "ename": "ValueError",
          "evalue": "ignored",
          "traceback": [
            "\u001b[0;31m---------------------------------------------------------------------------\u001b[0m",
            "\u001b[0;31mValueError\u001b[0m                                Traceback (most recent call last)",
            "\u001b[0;32m<ipython-input-83-9c83cd10d470>\u001b[0m in \u001b[0;36m<cell line: 7>\u001b[0;34m()\u001b[0m\n\u001b[1;32m      5\u001b[0m \u001b[0;31m# Calculate precision, recall, and F1-score\u001b[0m\u001b[0;34m\u001b[0m\u001b[0;34m\u001b[0m\u001b[0m\n\u001b[1;32m      6\u001b[0m \u001b[0;32mfrom\u001b[0m \u001b[0msklearn\u001b[0m\u001b[0;34m.\u001b[0m\u001b[0mmetrics\u001b[0m \u001b[0;32mimport\u001b[0m \u001b[0mclassification_report\u001b[0m\u001b[0;34m\u001b[0m\u001b[0;34m\u001b[0m\u001b[0m\n\u001b[0;32m----> 7\u001b[0;31m \u001b[0mreport\u001b[0m \u001b[0;34m=\u001b[0m \u001b[0mclassification_report\u001b[0m\u001b[0;34m(\u001b[0m\u001b[0my_test\u001b[0m\u001b[0;34m,\u001b[0m \u001b[0my_pred_classes\u001b[0m\u001b[0;34m,\u001b[0m \u001b[0mtarget_names\u001b[0m\u001b[0;34m=\u001b[0m\u001b[0mclass_labels\u001b[0m\u001b[0;34m)\u001b[0m\u001b[0;34m\u001b[0m\u001b[0;34m\u001b[0m\u001b[0m\n\u001b[0m\u001b[1;32m      8\u001b[0m \u001b[0mprint\u001b[0m\u001b[0;34m(\u001b[0m\u001b[0mreport\u001b[0m\u001b[0;34m)\u001b[0m\u001b[0;34m\u001b[0m\u001b[0;34m\u001b[0m\u001b[0m\n",
            "\u001b[0;32m/usr/local/lib/python3.10/dist-packages/sklearn/metrics/_classification.py\u001b[0m in \u001b[0;36mclassification_report\u001b[0;34m(y_true, y_pred, labels, target_names, sample_weight, digits, output_dict, zero_division)\u001b[0m\n\u001b[1;32m   2330\u001b[0m             )\n\u001b[1;32m   2331\u001b[0m         \u001b[0;32melse\u001b[0m\u001b[0;34m:\u001b[0m\u001b[0;34m\u001b[0m\u001b[0;34m\u001b[0m\u001b[0m\n\u001b[0;32m-> 2332\u001b[0;31m             raise ValueError(\n\u001b[0m\u001b[1;32m   2333\u001b[0m                 \u001b[0;34m\"Number of classes, {0}, does not match size of \"\u001b[0m\u001b[0;34m\u001b[0m\u001b[0;34m\u001b[0m\u001b[0m\n\u001b[1;32m   2334\u001b[0m                 \u001b[0;34m\"target_names, {1}. Try specifying the labels \"\u001b[0m\u001b[0;34m\u001b[0m\u001b[0;34m\u001b[0m\u001b[0m\n",
            "\u001b[0;31mValueError\u001b[0m: Number of classes, 22, does not match size of target_names, 97. Try specifying the labels parameter"
          ]
        }
      ]
    },
    {
      "cell_type": "code",
      "source": [
        "import os\n",
        "import cv2\n",
        "from collections import Counter\n",
        "\n",
        "# Specify the path to the folder containing your images\n",
        "image_folder = '/content/output_folder'\n",
        "\n",
        "# Initialize empty lists to store images and labels\n",
        "images = []\n",
        "labels = []\n",
        "\n",
        "# Loop through the files in the folder\n",
        "for filename in os.listdir(image_folder):\n",
        "    if filename.endswith('.jpg') or filename.endswith('.png'):\n",
        "        # Extract the label from the file name\n",
        "        label = filename.split('_')[0]  # Assuming the label is before the first underscore\n",
        "        labels.append(label)\n",
        "\n",
        "        # Read the image using OpenCV\n",
        "        img_path = os.path.join(image_folder, filename)\n",
        "        img = cv2.imread(img_path)\n",
        "\n",
        "        if img is not None:\n",
        "            images.append(img)\n",
        "        else:\n",
        "            print(f\"Unable to read image: {img_path}\")\n",
        "\n",
        "# Use Counter to count the occurrences of each label\n",
        "label_counts = Counter(labels)\n",
        "\n",
        "# Print the labels and the number of images for each label\n",
        "for label, count in label_counts.items():\n",
        "    print(f\"Label: {label}, Number of Images: {count}\")\n"
      ],
      "metadata": {
        "colab": {
          "base_uri": "https://localhost:8080/"
        },
        "id": "dJQj2V_2_u4h",
        "outputId": "f87b4ea9-1a87-473e-f809-7690a73839b9"
      },
      "execution_count": 89,
      "outputs": [
        {
          "output_type": "stream",
          "name": "stdout",
          "text": [
            "Label: O=C1CCC1.png, Number of Images: 1\n",
            "Label: [H][C@@]1(CCCCN1)CC(=O)C[C@@]1([H])CCCCN1.png, Number of Images: 1\n",
            "Label: CC(C)=O.png, Number of Images: 1\n",
            "Label: O=C1C(C=C)CCC1.png, Number of Images: 1\n",
            "Label: CC(C(CCC(C#N)(C1=CC(OC)=C(C=C1)OC)C(C)C)=O)C.png, Number of Images: 1\n",
            "Label: CC(C)C(C)(C)OC1=CC=C(C=C1)C(=O)C2=CC=C(C=C2).png, Number of Images: 1\n",
            "Label: O=C(CC)C(C)(C)C.png, Number of Images: 1\n",
            "Label: O=C(C(C)(C)C)C(C)C.png, Number of Images: 1\n",
            "Label: O=C(C(C)(C)C)C1=CC=CC=C1.png, Number of Images: 1\n",
            "Label: COC1=CC(=CC(OC)=C1OCCN1CCOCC1)C(=O)C1=CC=C(Cl)C=C1.png, Number of Images: 1\n",
            "Label: O=C(C(C)(C)C)C=C.png, Number of Images: 1\n",
            "Label: O=C(CC)CC.png, Number of Images: 1\n",
            "Label: O=C1C(CC)CCC1.png, Number of Images: 1\n",
            "Label: CCCC(=O)C1=C(OCCN(C(C)C)C(C)C)C=CC=C1.png, Number of Images: 1\n",
            "Label: O=C(C=C)C=C.png, Number of Images: 1\n",
            "Label: O=C1C(CCCC1)(NC)C2=CC=CC=C2Cl.png, Number of Images: 1\n",
            "Label: O=C(C(C)(C)C) C(C)=C C.png, Number of Images: 1\n",
            "Label: O=C1C2=C(CCCC2)CC3C1CCCC3.png, Number of Images: 1\n",
            "Label: CNC(C)C(=O)C1=CC=CC=C1.png, Number of Images: 1\n",
            "Label: O=C1C[C@@]2([H])C=C(CCCCC(C)=O)C[C@@]2([H])[C@H]1C=C.png, Number of Images: 1\n",
            "Label: O=C(C1CCCC1)C(C)=C.png, Number of Images: 1\n",
            "Label: CC(C)(OC1=CC=C(C=C1)C(=O)C1=CC=C(Cl)C=C1)C(O)=O.png, Number of Images: 1\n",
            "Label: O=C(CC)C=C.png, Number of Images: 1\n",
            "Label: O=C1C2=C(C=CC=C2)CC1.png, Number of Images: 1\n",
            "Label: O=C(C(C)C)C(C)=C.png, Number of Images: 1\n",
            "Label: OC1=C2C(C(C(C3)O2)(CC4)C(CC3=O)C5N4C)=C(C=C1)C5=O.png, Number of Images: 1\n",
            "Label: O=C(C(C)=C)C=C.png, Number of Images: 1\n",
            "Label: CC( C(C)=C(C) C)=O.png, Number of Images: 1\n",
            "Label: O=C(C1CCCCC1) C(C)=C C.png, Number of Images: 1\n",
            "Label: O=C(C=C)C1=CC=CC=C1.png, Number of Images: 1\n",
            "Label: CC(C=C)=O.png, Number of Images: 1\n",
            "Label: COC1=C(C=CC=C1)C(=O)CCC1=CC=CC=C1.png, Number of Images: 1\n",
            "Label: O=C1C2C(CCC2)CCC1.png, Number of Images: 1\n",
            "Label: OC(C(=O)C1=CC=CC=C1)C1=CC=CC=C1.png, Number of Images: 1\n",
            "Label: O=C(C1CCCCC1)C2=CC=CC=C2.png, Number of Images: 1\n",
            "Label: O=C(C(C)(C)C)C(C)=C.png, Number of Images: 1\n",
            "Label: CC(CCC(C#N)(C1=CC=C(C=C1)C)C(C)C)=O.png, Number of Images: 1\n",
            "Label: O=C(CC) C(C)=C(C) C.png, Number of Images: 1\n",
            "Label: O=C(C1CCCCC1) C(C)=C(C) C.png, Number of Images: 1\n",
            "Label: CC(C)CC(=O)C[C@H](C)c1ccc(C)cc1.png, Number of Images: 1\n",
            "Label: O=C([C@@H](C)CC) C(C)=C C.png, Number of Images: 1\n",
            "Label: O=C(CC)C(C)=C.png, Number of Images: 1\n",
            "Label: CCCCOC1=CC=C(C=C1)C(=O)CC.png, Number of Images: 1\n",
            "Label: O=C(CCC1)C2C1CC(CCCC3)=C3C2.png, Number of Images: 1\n",
            "Label: O=C1CCCC1.png, Number of Images: 1\n",
            "Label: CC(CCC(C#N)(C1=CC(OC)=C(C=C1)OC)C(C)C)=O.png, Number of Images: 1\n",
            "Label: OC1[C@H]2[C@H](COC2)C=C[C@H]1C(C)=O.png, Number of Images: 1\n",
            "Label: O=C(C1CCC(CC1)CCC)C.png, Number of Images: 1\n",
            "Label: O=C(CC) C(C)=C C.png, Number of Images: 1\n",
            "Label: CC1=C(CCC(C)=O)CSCC1.png, Number of Images: 1\n",
            "Label: O=C1C2=C(C=CC=N2)CCC1.png, Number of Images: 1\n",
            "Label: O=C(CC)C1=CC=CC=C1.png, Number of Images: 1\n",
            "Label: O=C(C1=C(CCCO)OC2=C1C=CC=C2)C3=CC(I)=C(OCCC(CC)CC)C(I)=C3.png, Number of Images: 1\n",
            "Label: O=C(C(C)C)C(C)C.png, Number of Images: 1\n",
            "Label: O=C(C(C)C) C(C)=C C.png, Number of Images: 1\n",
            "Label: O=C1C(CC)CCCC1 copy.png, Number of Images: 1\n",
            "Label: COC(C=C1)=CC=C1[C@@H](C2)SC3=CC=CC=C3CC2=O.png, Number of Images: 1\n",
            "Label: O=C(C(C)C) C(C)=C(C) C.png, Number of Images: 1\n",
            "Label: C1CC([C@@]23[C@@](C1)(CCC([C@@H]2C3)=O)C)(C)C.png, Number of Images: 1\n",
            "Label: COC1=C(C(=O)\\C=C\\C2=CC=CC=C2)C(O)=CC(O)=C1.png, Number of Images: 1\n",
            "Label: O=C1C(C(C)C)CCC1.png, Number of Images: 1\n",
            "Label: O=C(C1=CC=CC=C1)C(C)=C.png, Number of Images: 1\n",
            "Label: O=C1C(C(C)C)CCCC1.png, Number of Images: 1\n",
            "Label: CCC(=O)C(C[C@H](C)N(C)C)(C1=CC=CC=C1)C1=CC=CC=C1.png, Number of Images: 1\n",
            "Label: CC(C=C1)=CC=C1[C@@H](C2)SC3=CC=CC=C3CC2=O.png, Number of Images: 1\n",
            "Label: CCC(=O)C(CC(C)N1CCCCC1)(C1=CC=CC=C1).png, Number of Images: 1\n",
            "Label: CC(CCC(C#N)(C1=CC=C(C=C1)OC)C(C)C)=O.png, Number of Images: 1\n",
            "Label: O=C1C2C(CCCC2)CC1.png, Number of Images: 1\n",
            "Label: O=C(C1=CC=CC=C1)C=C.png, Number of Images: 1\n",
            "Label: O=C(C1=CC(I)=C(C(I)=C1)OCCC(CC)CC)C2=C(OC3=C2C=CC=C3)C.png, Number of Images: 1\n",
            "Label: Oc1ccc(CCC(=O)CC\\C=C\\c2ccc(O)cc2)cc1.png, Number of Images: 1\n",
            "Label: O=C(C(C)C)C1=CC=CC=C1.png, Number of Images: 1\n",
            "Label: O=C([C@H](C)CC) C(C)=C C.png, Number of Images: 1\n",
            "Label: CC(C1=CC=CC=C1)=O.png, Number of Images: 1\n",
            "Label: CC(C1=CC=CC=C1Cl)=O.png, Number of Images: 1\n",
            "Label: C[C@H](C1=CC=C(C=C1)OC)C(=O)C2=C(C=C(C=C2)O)O.png, Number of Images: 1\n",
            "Label: CCCCCCCCCCCCCCCC(=O)C(N)CO.png, Number of Images: 1\n",
            "Label: O=C1[C@@H]2C(CCC2)CCC1.png, Number of Images: 1\n",
            "Label: O=C1CCCCC1.png, Number of Images: 1\n",
            "Label: CCC(=O)C(CC(C)N(C)C)C1=CC=CC=C1.png, Number of Images: 1\n",
            "Label: CC(C)(C)C1=CC=C(C=C1)C(=O)CCCN1CCC(CC1)OC(C1=CC=CC=C1).png, Number of Images: 1\n",
            "Label: CC(C(C)(C)C)=O.png, Number of Images: 1\n",
            "Label: O=C1C2=C(C=CC=C2)CC3=C1C=CC=C3.png, Number of Images: 1\n",
            "Label: O=C1C(C(C)(C)C)CCC1.png, Number of Images: 1\n",
            "Label: O=C1C(C(C)(C)C)CCCC1.png, Number of Images: 1\n",
            "Label: O=C(C1=CC(I)=C(C(I)=C1)OCC)C2=C(OC3=C2C=CC=C3)C.png, Number of Images: 1\n",
            "Label: O=C1CCCCCCCC(C)C1.png, Number of Images: 1\n",
            "Label: O=C1C(CC)CCCC1.png, Number of Images: 1\n",
            "Label: CC(CC)=O.png, Number of Images: 1\n",
            "Label: O=C(CC)C(C)C.png, Number of Images: 1\n",
            "Label: O=C(C(C)(C)C) C(C)=C(C) C.png, Number of Images: 1\n",
            "Label: CC( C(C)=C C)=O.png, Number of Images: 1\n",
            "Label: O=C(C(C)C)C=C.png, Number of Images: 1\n",
            "Label: CC(C(C)C)=O.png, Number of Images: 1\n",
            "Label: O=C(CCCC C=C C#CC#C C=C C)CCC.png, Number of Images: 1\n",
            "Label: O=C(C1CCCC1)C=C.png, Number of Images: 1\n",
            "Label: ClC1=CC=CC=C1C(C2CCCC2)=O.png, Number of Images: 1\n"
          ]
        }
      ]
    },
    {
      "cell_type": "code",
      "source": [
        "import tensorflow as tf\n",
        "from tensorflow import keras\n",
        "from tensorflow.keras.layers import Conv2D, MaxPooling2D, Flatten, Dense\n",
        "from sklearn.model_selection import train_test_split\n",
        "\n",
        "# Preprocess your images, e.g., resizing and normalizing\n",
        "\n",
        "# Split the data into training and testing sets\n",
        "X_train, X_test, y_train, y_test = train_test_split(images, labels, test_size=0.2, random_state=42)\n",
        "\n",
        "# Define a simple CNN model\n",
        "model = keras.Sequential([\n",
        "    Conv2D(32, (3, 3), activation='relu', input_shape=(224, 224, 3)),\n",
        "    MaxPooling2D((2, 2)),\n",
        "    Conv2D(64, (3, 3), activation='relu'),\n",
        "    MaxPooling2D((2, 2)),\n",
        "    Flatten(),\n",
        "    Dense(64, activation='relu'),\n",
        "    Dense(97, activation='softmax')  # num_classes is the number of unique labels\n",
        "])\n",
        "\n",
        "# Compile the model\n",
        "model.compile(optimizer='adam', loss='sparse_categorical_crossentropy', metrics=['accuracy'])\n",
        "\n",
        "# Train the model\n",
        "model.fit(X_train, y_train, epochs=10, validation_data=(X_test, y_test))\n",
        "\n",
        "# Evaluate the model\n",
        "test_loss, test_accuracy = model.evaluate(X_test, y_test)\n",
        "print(f'Test accuracy: {test_accuracy}')\n"
      ],
      "metadata": {
        "colab": {
          "base_uri": "https://localhost:8080/",
          "height": 408
        },
        "id": "k7FgpghMAgr_",
        "outputId": "f4db8e9e-6d92-495a-ebde-1c8d476b7f0a"
      },
      "execution_count": 91,
      "outputs": [
        {
          "output_type": "error",
          "ename": "ValueError",
          "evalue": "ignored",
          "traceback": [
            "\u001b[0;31m---------------------------------------------------------------------------\u001b[0m",
            "\u001b[0;31mValueError\u001b[0m                                Traceback (most recent call last)",
            "\u001b[0;32m<ipython-input-91-88b39cb1e737>\u001b[0m in \u001b[0;36m<cell line: 26>\u001b[0;34m()\u001b[0m\n\u001b[1;32m     24\u001b[0m \u001b[0;34m\u001b[0m\u001b[0m\n\u001b[1;32m     25\u001b[0m \u001b[0;31m# Train the model\u001b[0m\u001b[0;34m\u001b[0m\u001b[0;34m\u001b[0m\u001b[0m\n\u001b[0;32m---> 26\u001b[0;31m \u001b[0mmodel\u001b[0m\u001b[0;34m.\u001b[0m\u001b[0mfit\u001b[0m\u001b[0;34m(\u001b[0m\u001b[0mX_train\u001b[0m\u001b[0;34m,\u001b[0m \u001b[0my_train\u001b[0m\u001b[0;34m,\u001b[0m \u001b[0mepochs\u001b[0m\u001b[0;34m=\u001b[0m\u001b[0;36m10\u001b[0m\u001b[0;34m,\u001b[0m \u001b[0mvalidation_data\u001b[0m\u001b[0;34m=\u001b[0m\u001b[0;34m(\u001b[0m\u001b[0mX_test\u001b[0m\u001b[0;34m,\u001b[0m \u001b[0my_test\u001b[0m\u001b[0;34m)\u001b[0m\u001b[0;34m)\u001b[0m\u001b[0;34m\u001b[0m\u001b[0;34m\u001b[0m\u001b[0m\n\u001b[0m\u001b[1;32m     27\u001b[0m \u001b[0;34m\u001b[0m\u001b[0m\n\u001b[1;32m     28\u001b[0m \u001b[0;31m# Evaluate the model\u001b[0m\u001b[0;34m\u001b[0m\u001b[0;34m\u001b[0m\u001b[0m\n",
            "\u001b[0;32m/usr/local/lib/python3.10/dist-packages/keras/src/utils/traceback_utils.py\u001b[0m in \u001b[0;36merror_handler\u001b[0;34m(*args, **kwargs)\u001b[0m\n\u001b[1;32m     68\u001b[0m             \u001b[0;31m# To get the full stack trace, call:\u001b[0m\u001b[0;34m\u001b[0m\u001b[0;34m\u001b[0m\u001b[0m\n\u001b[1;32m     69\u001b[0m             \u001b[0;31m# `tf.debugging.disable_traceback_filtering()`\u001b[0m\u001b[0;34m\u001b[0m\u001b[0;34m\u001b[0m\u001b[0m\n\u001b[0;32m---> 70\u001b[0;31m             \u001b[0;32mraise\u001b[0m \u001b[0me\u001b[0m\u001b[0;34m.\u001b[0m\u001b[0mwith_traceback\u001b[0m\u001b[0;34m(\u001b[0m\u001b[0mfiltered_tb\u001b[0m\u001b[0;34m)\u001b[0m \u001b[0;32mfrom\u001b[0m \u001b[0;32mNone\u001b[0m\u001b[0;34m\u001b[0m\u001b[0;34m\u001b[0m\u001b[0m\n\u001b[0m\u001b[1;32m     71\u001b[0m         \u001b[0;32mfinally\u001b[0m\u001b[0;34m:\u001b[0m\u001b[0;34m\u001b[0m\u001b[0;34m\u001b[0m\u001b[0m\n\u001b[1;32m     72\u001b[0m             \u001b[0;32mdel\u001b[0m \u001b[0mfiltered_tb\u001b[0m\u001b[0;34m\u001b[0m\u001b[0;34m\u001b[0m\u001b[0m\n",
            "\u001b[0;32m/usr/local/lib/python3.10/dist-packages/keras/src/engine/data_adapter.py\u001b[0m in \u001b[0;36mselect_data_adapter\u001b[0;34m(x, y)\u001b[0m\n\u001b[1;32m   1103\u001b[0m     \u001b[0;32mif\u001b[0m \u001b[0;32mnot\u001b[0m \u001b[0madapter_cls\u001b[0m\u001b[0;34m:\u001b[0m\u001b[0;34m\u001b[0m\u001b[0;34m\u001b[0m\u001b[0m\n\u001b[1;32m   1104\u001b[0m         \u001b[0;31m# TODO(scottzhu): This should be a less implementation-specific error.\u001b[0m\u001b[0;34m\u001b[0m\u001b[0;34m\u001b[0m\u001b[0m\n\u001b[0;32m-> 1105\u001b[0;31m         raise ValueError(\n\u001b[0m\u001b[1;32m   1106\u001b[0m             \"Failed to find data adapter that can handle input: {}, {}\".format(\n\u001b[1;32m   1107\u001b[0m                 \u001b[0m_type_name\u001b[0m\u001b[0;34m(\u001b[0m\u001b[0mx\u001b[0m\u001b[0;34m)\u001b[0m\u001b[0;34m,\u001b[0m \u001b[0m_type_name\u001b[0m\u001b[0;34m(\u001b[0m\u001b[0my\u001b[0m\u001b[0;34m)\u001b[0m\u001b[0;34m\u001b[0m\u001b[0;34m\u001b[0m\u001b[0m\n",
            "\u001b[0;31mValueError\u001b[0m: Failed to find data adapter that can handle input: (<class 'list'> containing values of types {\"<class 'numpy.ndarray'>\"}), (<class 'list'> containing values of types {\"<class 'str'>\"})"
          ]
        }
      ]
    }
  ]
}